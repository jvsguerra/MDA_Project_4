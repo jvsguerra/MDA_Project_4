{
 "cells": [
  {
   "cell_type": "markdown",
   "id": "065bfdaa-5466-47e5-b13b-ecc0fcdf9dba",
   "metadata": {},
   "source": [
    "# Project 4\n",
    "\n",
    "This project applies programming skills acquired during the course to re-analyze microscopy data using Cellpose, comparing its segmentation results with those from the Nessys algorithm.\n",
    "\n",
    "The authors of the PLOS Biology paper, \"Nessys: A new set of tools for the automated detection of nuclei within intact tissues and dense 3D cultures\" (Blin et al., 2019) introduced a novel nuclear segmentation method. Their images were processed using Nessys, an extensible Java-based automated cell nuclei identification software. The images and analytical results are available in the Image Data Resource (IDR):\n",
    "- <https://doi.org/10.1371/journal.pbio.3000388>\n",
    "- <https://idr.openmicroscopy.org/webclient/?show=project-801>\n",
    "\n",
    "The IDR team has also converted the dataset into OME-Zarr format. Unlike Nessys, Cellpose was not used in the original study. "
   ]
  },
  {
   "cell_type": "markdown",
   "id": "ca575ae8",
   "metadata": {},
   "source": [
    "## Local TIFF files\n",
    "\n",
    "The dataset is available in the IDR, but first, we are going to download the B4_C3.tif file from the IDR and save it locally. We will then use Cellpose to segment the nuclei in the image and compare the results with those obtained using Nessys."
   ]
  },
  {
   "cell_type": "markdown",
   "id": "ec4116f3",
   "metadata": {},
   "source": [
    "### 1. Install dependencies from [PyPI](https://pypi.org/)"
   ]
  },
  {
   "cell_type": "code",
   "execution_count": 1,
   "id": "9d9aa1ad",
   "metadata": {},
   "outputs": [
    {
     "name": "stdout",
     "output_type": "stream",
     "text": [
      "Requirement already satisfied: bioio==1.4.0 in ./.venv/lib/python3.12/site-packages (from -r requirements.txt (line 1)) (1.4.0)\n",
      "Requirement already satisfied: bioio-nd2==1.0.1 in ./.venv/lib/python3.12/site-packages (from -r requirements.txt (line 2)) (1.0.1)\n",
      "Requirement already satisfied: bioio-tifffile==1.0.1 in ./.venv/lib/python3.12/site-packages (from -r requirements.txt (line 3)) (1.0.1)\n",
      "Requirement already satisfied: cellpose==3.1.1.1 in ./.venv/lib/python3.12/site-packages (from -r requirements.txt (line 4)) (3.1.1.1)\n",
      "Requirement already satisfied: ftputil==5.1.0 in ./.venv/lib/python3.12/site-packages (from -r requirements.txt (line 5)) (5.1.0)\n",
      "Requirement already satisfied: ipykernel==6.29.5 in ./.venv/lib/python3.12/site-packages (from -r requirements.txt (line 6)) (6.29.5)\n",
      "Requirement already satisfied: ipywidgets==8.1.5 in ./.venv/lib/python3.12/site-packages (from -r requirements.txt (line 7)) (8.1.5)\n",
      "Requirement already satisfied: jupyter==1.1.1 in ./.venv/lib/python3.12/site-packages (from -r requirements.txt (line 8)) (1.1.1)\n",
      "Requirement already satisfied: matplotlib==3.10.1 in ./.venv/lib/python3.12/site-packages (from -r requirements.txt (line 9)) (3.10.1)\n",
      "Requirement already satisfied: numpy==1.26.4 in ./.venv/lib/python3.12/site-packages (from -r requirements.txt (line 10)) (1.26.4)\n",
      "Requirement already satisfied: zarr==2.18.5 in ./.venv/lib/python3.12/site-packages (from -r requirements.txt (line 11)) (2.18.5)\n",
      "Requirement already satisfied: bioio-base>=1.0.5 in ./.venv/lib/python3.12/site-packages (from bioio==1.4.0->-r requirements.txt (line 1)) (1.0.5)\n",
      "Requirement already satisfied: dask>=2021.4.1 in ./.venv/lib/python3.12/site-packages (from dask[array]>=2021.4.1->bioio==1.4.0->-r requirements.txt (line 1)) (2025.3.0)\n",
      "Requirement already satisfied: fsspec>=2022.8.0 in ./.venv/lib/python3.12/site-packages (from bioio==1.4.0->-r requirements.txt (line 1)) (2025.3.2)\n",
      "Requirement already satisfied: imageio<2.28.0,>=2.11.0 in ./.venv/lib/python3.12/site-packages (from imageio[ffmpeg]<2.28.0,>=2.11.0->bioio==1.4.0->-r requirements.txt (line 1)) (2.27.0)\n",
      "Requirement already satisfied: ngff-zarr<0.9.1,>=0.8.2 in ./.venv/lib/python3.12/site-packages (from bioio==1.4.0->-r requirements.txt (line 1)) (0.9.0)\n",
      "Requirement already satisfied: ome-types>=0.4.0 in ./.venv/lib/python3.12/site-packages (from ome-types[lxml]>=0.4.0->bioio==1.4.0->-r requirements.txt (line 1)) (0.6.0)\n",
      "Requirement already satisfied: ome-zarr>=0.6.1 in ./.venv/lib/python3.12/site-packages (from bioio==1.4.0->-r requirements.txt (line 1)) (0.10.3)\n",
      "Requirement already satisfied: scikit-image!=0.23.0 in ./.venv/lib/python3.12/site-packages (from bioio==1.4.0->-r requirements.txt (line 1)) (0.22.0)\n",
      "Requirement already satisfied: semver>=3.0.1 in ./.venv/lib/python3.12/site-packages (from bioio==1.4.0->-r requirements.txt (line 1)) (3.0.4)\n",
      "Requirement already satisfied: tifffile<2025.2.18,>=2021.8.30 in ./.venv/lib/python3.12/site-packages (from bioio==1.4.0->-r requirements.txt (line 1)) (2025.1.10)\n",
      "Requirement already satisfied: nd2>=0.6.0 in ./.venv/lib/python3.12/site-packages (from nd2[legacy]>=0.6.0->bioio-nd2==1.0.1->-r requirements.txt (line 2)) (0.10.2)\n",
      "Requirement already satisfied: PyYAML>=6.0 in ./.venv/lib/python3.12/site-packages (from bioio-nd2==1.0.1->-r requirements.txt (line 2)) (6.0.2)\n",
      "Requirement already satisfied: xarray>=0.16.1 in ./.venv/lib/python3.12/site-packages (from bioio-nd2==1.0.1->-r requirements.txt (line 2)) (2025.3.1)\n",
      "Requirement already satisfied: imagecodecs>=2020.5.30 in ./.venv/lib/python3.12/site-packages (from bioio-tifffile==1.0.1->-r requirements.txt (line 3)) (2025.3.30)\n",
      "Requirement already satisfied: scipy in ./.venv/lib/python3.12/site-packages (from cellpose==3.1.1.1->-r requirements.txt (line 4)) (1.15.2)\n",
      "Requirement already satisfied: natsort in ./.venv/lib/python3.12/site-packages (from cellpose==3.1.1.1->-r requirements.txt (line 4)) (8.4.0)\n",
      "Requirement already satisfied: tqdm in ./.venv/lib/python3.12/site-packages (from cellpose==3.1.1.1->-r requirements.txt (line 4)) (4.67.1)\n",
      "Requirement already satisfied: numba>=0.53.0 in ./.venv/lib/python3.12/site-packages (from cellpose==3.1.1.1->-r requirements.txt (line 4)) (0.61.0)\n",
      "Requirement already satisfied: llvmlite in ./.venv/lib/python3.12/site-packages (from cellpose==3.1.1.1->-r requirements.txt (line 4)) (0.44.0)\n",
      "Requirement already satisfied: torch>=1.6 in ./.venv/lib/python3.12/site-packages (from cellpose==3.1.1.1->-r requirements.txt (line 4)) (2.6.0)\n",
      "Requirement already satisfied: opencv-python-headless in ./.venv/lib/python3.12/site-packages (from cellpose==3.1.1.1->-r requirements.txt (line 4)) (4.11.0.86)\n",
      "Requirement already satisfied: fastremap in ./.venv/lib/python3.12/site-packages (from cellpose==3.1.1.1->-r requirements.txt (line 4)) (1.15.1)\n",
      "Requirement already satisfied: roifile in ./.venv/lib/python3.12/site-packages (from cellpose==3.1.1.1->-r requirements.txt (line 4)) (2025.2.20)\n",
      "Requirement already satisfied: comm>=0.1.1 in ./.venv/lib/python3.12/site-packages (from ipykernel==6.29.5->-r requirements.txt (line 6)) (0.2.2)\n",
      "Requirement already satisfied: debugpy>=1.6.5 in ./.venv/lib/python3.12/site-packages (from ipykernel==6.29.5->-r requirements.txt (line 6)) (1.8.13)\n",
      "Requirement already satisfied: ipython>=7.23.1 in ./.venv/lib/python3.12/site-packages (from ipykernel==6.29.5->-r requirements.txt (line 6)) (9.0.2)\n",
      "Requirement already satisfied: jupyter-client>=6.1.12 in ./.venv/lib/python3.12/site-packages (from ipykernel==6.29.5->-r requirements.txt (line 6)) (8.6.3)\n",
      "Requirement already satisfied: jupyter-core!=5.0.*,>=4.12 in ./.venv/lib/python3.12/site-packages (from ipykernel==6.29.5->-r requirements.txt (line 6)) (5.7.2)\n",
      "Requirement already satisfied: matplotlib-inline>=0.1 in ./.venv/lib/python3.12/site-packages (from ipykernel==6.29.5->-r requirements.txt (line 6)) (0.1.7)\n",
      "Requirement already satisfied: nest-asyncio in ./.venv/lib/python3.12/site-packages (from ipykernel==6.29.5->-r requirements.txt (line 6)) (1.6.0)\n",
      "Requirement already satisfied: packaging in ./.venv/lib/python3.12/site-packages (from ipykernel==6.29.5->-r requirements.txt (line 6)) (24.2)\n",
      "Requirement already satisfied: psutil in ./.venv/lib/python3.12/site-packages (from ipykernel==6.29.5->-r requirements.txt (line 6)) (7.0.0)\n",
      "Requirement already satisfied: pyzmq>=24 in ./.venv/lib/python3.12/site-packages (from ipykernel==6.29.5->-r requirements.txt (line 6)) (26.3.0)\n",
      "Requirement already satisfied: tornado>=6.1 in ./.venv/lib/python3.12/site-packages (from ipykernel==6.29.5->-r requirements.txt (line 6)) (6.4.2)\n",
      "Requirement already satisfied: traitlets>=5.4.0 in ./.venv/lib/python3.12/site-packages (from ipykernel==6.29.5->-r requirements.txt (line 6)) (5.14.3)\n",
      "Requirement already satisfied: widgetsnbextension~=4.0.12 in ./.venv/lib/python3.12/site-packages (from ipywidgets==8.1.5->-r requirements.txt (line 7)) (4.0.13)\n",
      "Requirement already satisfied: jupyterlab-widgets~=3.0.12 in ./.venv/lib/python3.12/site-packages (from ipywidgets==8.1.5->-r requirements.txt (line 7)) (3.0.13)\n",
      "Requirement already satisfied: notebook in ./.venv/lib/python3.12/site-packages (from jupyter==1.1.1->-r requirements.txt (line 8)) (7.3.3)\n",
      "Requirement already satisfied: jupyter-console in ./.venv/lib/python3.12/site-packages (from jupyter==1.1.1->-r requirements.txt (line 8)) (6.6.3)\n",
      "Requirement already satisfied: nbconvert in ./.venv/lib/python3.12/site-packages (from jupyter==1.1.1->-r requirements.txt (line 8)) (7.16.6)\n",
      "Requirement already satisfied: jupyterlab in ./.venv/lib/python3.12/site-packages (from jupyter==1.1.1->-r requirements.txt (line 8)) (4.3.6)\n",
      "Requirement already satisfied: contourpy>=1.0.1 in ./.venv/lib/python3.12/site-packages (from matplotlib==3.10.1->-r requirements.txt (line 9)) (1.3.1)\n",
      "Requirement already satisfied: cycler>=0.10 in ./.venv/lib/python3.12/site-packages (from matplotlib==3.10.1->-r requirements.txt (line 9)) (0.12.1)\n",
      "Requirement already satisfied: fonttools>=4.22.0 in ./.venv/lib/python3.12/site-packages (from matplotlib==3.10.1->-r requirements.txt (line 9)) (4.56.0)\n",
      "Requirement already satisfied: kiwisolver>=1.3.1 in ./.venv/lib/python3.12/site-packages (from matplotlib==3.10.1->-r requirements.txt (line 9)) (1.4.8)\n",
      "Requirement already satisfied: pillow>=8 in ./.venv/lib/python3.12/site-packages (from matplotlib==3.10.1->-r requirements.txt (line 9)) (11.1.0)\n",
      "Requirement already satisfied: pyparsing>=2.3.1 in ./.venv/lib/python3.12/site-packages (from matplotlib==3.10.1->-r requirements.txt (line 9)) (3.2.3)\n",
      "Requirement already satisfied: python-dateutil>=2.7 in ./.venv/lib/python3.12/site-packages (from matplotlib==3.10.1->-r requirements.txt (line 9)) (2.9.0.post0)\n",
      "Requirement already satisfied: asciitree in ./.venv/lib/python3.12/site-packages (from zarr==2.18.5->-r requirements.txt (line 11)) (0.3.3)\n",
      "Requirement already satisfied: fasteners in ./.venv/lib/python3.12/site-packages (from zarr==2.18.5->-r requirements.txt (line 11)) (0.19)\n",
      "Requirement already satisfied: numcodecs!=0.14.0,!=0.14.1,>=0.10.0 in ./.venv/lib/python3.12/site-packages (from zarr==2.18.5->-r requirements.txt (line 11)) (0.15.1)\n",
      "Requirement already satisfied: click>=8.1 in ./.venv/lib/python3.12/site-packages (from dask>=2021.4.1->dask[array]>=2021.4.1->bioio==1.4.0->-r requirements.txt (line 1)) (8.1.8)\n",
      "Requirement already satisfied: cloudpickle>=3.0.0 in ./.venv/lib/python3.12/site-packages (from dask>=2021.4.1->dask[array]>=2021.4.1->bioio==1.4.0->-r requirements.txt (line 1)) (3.1.1)\n",
      "Requirement already satisfied: partd>=1.4.0 in ./.venv/lib/python3.12/site-packages (from dask>=2021.4.1->dask[array]>=2021.4.1->bioio==1.4.0->-r requirements.txt (line 1)) (1.4.2)\n",
      "Requirement already satisfied: toolz>=0.10.0 in ./.venv/lib/python3.12/site-packages (from dask>=2021.4.1->dask[array]>=2021.4.1->bioio==1.4.0->-r requirements.txt (line 1)) (1.0.0)\n",
      "Requirement already satisfied: imageio-ffmpeg in ./.venv/lib/python3.12/site-packages (from imageio[ffmpeg]<2.28.0,>=2.11.0->bioio==1.4.0->-r requirements.txt (line 1)) (0.6.0)\n",
      "Requirement already satisfied: decorator in ./.venv/lib/python3.12/site-packages (from ipython>=7.23.1->ipykernel==6.29.5->-r requirements.txt (line 6)) (5.2.1)\n",
      "Requirement already satisfied: ipython-pygments-lexers in ./.venv/lib/python3.12/site-packages (from ipython>=7.23.1->ipykernel==6.29.5->-r requirements.txt (line 6)) (1.1.1)\n",
      "Requirement already satisfied: jedi>=0.16 in ./.venv/lib/python3.12/site-packages (from ipython>=7.23.1->ipykernel==6.29.5->-r requirements.txt (line 6)) (0.19.2)\n",
      "Requirement already satisfied: pexpect>4.3 in ./.venv/lib/python3.12/site-packages (from ipython>=7.23.1->ipykernel==6.29.5->-r requirements.txt (line 6)) (4.9.0)\n",
      "Requirement already satisfied: prompt_toolkit<3.1.0,>=3.0.41 in ./.venv/lib/python3.12/site-packages (from ipython>=7.23.1->ipykernel==6.29.5->-r requirements.txt (line 6)) (3.0.50)\n",
      "Requirement already satisfied: pygments>=2.4.0 in ./.venv/lib/python3.12/site-packages (from ipython>=7.23.1->ipykernel==6.29.5->-r requirements.txt (line 6)) (2.19.1)\n",
      "Requirement already satisfied: stack_data in ./.venv/lib/python3.12/site-packages (from ipython>=7.23.1->ipykernel==6.29.5->-r requirements.txt (line 6)) (0.6.3)\n",
      "Requirement already satisfied: platformdirs>=2.5 in ./.venv/lib/python3.12/site-packages (from jupyter-core!=5.0.*,>=4.12->ipykernel==6.29.5->-r requirements.txt (line 6)) (4.3.7)\n",
      "Requirement already satisfied: resource-backed-dask-array in ./.venv/lib/python3.12/site-packages (from nd2>=0.6.0->nd2[legacy]>=0.6.0->bioio-nd2==1.0.1->-r requirements.txt (line 2)) (0.1.0)\n",
      "Requirement already satisfied: typing-extensions in ./.venv/lib/python3.12/site-packages (from nd2>=0.6.0->nd2[legacy]>=0.6.0->bioio-nd2==1.0.1->-r requirements.txt (line 2)) (4.13.0)\n",
      "Requirement already satisfied: itkwasm-downsample>=1.2.0 in ./.venv/lib/python3.12/site-packages (from ngff-zarr<0.9.1,>=0.8.2->bioio==1.4.0->-r requirements.txt (line 1)) (1.6.0)\n",
      "Requirement already satisfied: itkwasm>=1.0b171 in ./.venv/lib/python3.12/site-packages (from ngff-zarr<0.9.1,>=0.8.2->bioio==1.4.0->-r requirements.txt (line 1)) (1.0b189)\n",
      "Requirement already satisfied: rich in ./.venv/lib/python3.12/site-packages (from ngff-zarr<0.9.1,>=0.8.2->bioio==1.4.0->-r requirements.txt (line 1)) (14.0.0)\n",
      "Requirement already satisfied: rich-argparse in ./.venv/lib/python3.12/site-packages (from ngff-zarr<0.9.1,>=0.8.2->bioio==1.4.0->-r requirements.txt (line 1)) (1.7.0)\n",
      "Requirement already satisfied: deprecated in ./.venv/lib/python3.12/site-packages (from numcodecs!=0.14.0,!=0.14.1,>=0.10.0->zarr==2.18.5->-r requirements.txt (line 11)) (1.2.18)\n",
      "Requirement already satisfied: pydantic-extra-types in ./.venv/lib/python3.12/site-packages (from ome-types>=0.4.0->ome-types[lxml]>=0.4.0->bioio==1.4.0->-r requirements.txt (line 1)) (2.10.3)\n",
      "Requirement already satisfied: pydantic>=2.4 in ./.venv/lib/python3.12/site-packages (from ome-types>=0.4.0->ome-types[lxml]>=0.4.0->bioio==1.4.0->-r requirements.txt (line 1)) (2.11.1)\n",
      "Requirement already satisfied: xsdata<24.4,>=23.6 in ./.venv/lib/python3.12/site-packages (from ome-types>=0.4.0->ome-types[lxml]>=0.4.0->bioio==1.4.0->-r requirements.txt (line 1)) (24.3.1)\n",
      "Requirement already satisfied: lxml>=4.8.0 in ./.venv/lib/python3.12/site-packages (from ome-types[lxml]>=0.4.0->bioio==1.4.0->-r requirements.txt (line 1)) (5.3.1)\n",
      "Requirement already satisfied: distributed in ./.venv/lib/python3.12/site-packages (from ome-zarr>=0.6.1->bioio==1.4.0->-r requirements.txt (line 1)) (2025.3.0)\n",
      "Requirement already satisfied: aiohttp<4 in ./.venv/lib/python3.12/site-packages (from ome-zarr>=0.6.1->bioio==1.4.0->-r requirements.txt (line 1)) (3.11.16)\n",
      "Requirement already satisfied: requests in ./.venv/lib/python3.12/site-packages (from ome-zarr>=0.6.1->bioio==1.4.0->-r requirements.txt (line 1)) (2.32.3)\n",
      "Requirement already satisfied: six>=1.5 in ./.venv/lib/python3.12/site-packages (from python-dateutil>=2.7->matplotlib==3.10.1->-r requirements.txt (line 9)) (1.17.0)\n",
      "Requirement already satisfied: networkx>=2.8 in ./.venv/lib/python3.12/site-packages (from scikit-image!=0.23.0->bioio==1.4.0->-r requirements.txt (line 1)) (3.4.2)\n",
      "Requirement already satisfied: lazy_loader>=0.3 in ./.venv/lib/python3.12/site-packages (from scikit-image!=0.23.0->bioio==1.4.0->-r requirements.txt (line 1)) (0.4)\n",
      "Requirement already satisfied: filelock in ./.venv/lib/python3.12/site-packages (from torch>=1.6->cellpose==3.1.1.1->-r requirements.txt (line 4)) (3.18.0)\n",
      "Requirement already satisfied: jinja2 in ./.venv/lib/python3.12/site-packages (from torch>=1.6->cellpose==3.1.1.1->-r requirements.txt (line 4)) (3.1.6)\n",
      "Requirement already satisfied: nvidia-cuda-nvrtc-cu12==12.4.127 in ./.venv/lib/python3.12/site-packages (from torch>=1.6->cellpose==3.1.1.1->-r requirements.txt (line 4)) (12.4.127)\n",
      "Requirement already satisfied: nvidia-cuda-runtime-cu12==12.4.127 in ./.venv/lib/python3.12/site-packages (from torch>=1.6->cellpose==3.1.1.1->-r requirements.txt (line 4)) (12.4.127)\n",
      "Requirement already satisfied: nvidia-cuda-cupti-cu12==12.4.127 in ./.venv/lib/python3.12/site-packages (from torch>=1.6->cellpose==3.1.1.1->-r requirements.txt (line 4)) (12.4.127)\n",
      "Requirement already satisfied: nvidia-cudnn-cu12==9.1.0.70 in ./.venv/lib/python3.12/site-packages (from torch>=1.6->cellpose==3.1.1.1->-r requirements.txt (line 4)) (9.1.0.70)\n",
      "Requirement already satisfied: nvidia-cublas-cu12==12.4.5.8 in ./.venv/lib/python3.12/site-packages (from torch>=1.6->cellpose==3.1.1.1->-r requirements.txt (line 4)) (12.4.5.8)\n",
      "Requirement already satisfied: nvidia-cufft-cu12==11.2.1.3 in ./.venv/lib/python3.12/site-packages (from torch>=1.6->cellpose==3.1.1.1->-r requirements.txt (line 4)) (11.2.1.3)\n",
      "Requirement already satisfied: nvidia-curand-cu12==10.3.5.147 in ./.venv/lib/python3.12/site-packages (from torch>=1.6->cellpose==3.1.1.1->-r requirements.txt (line 4)) (10.3.5.147)\n",
      "Requirement already satisfied: nvidia-cusolver-cu12==11.6.1.9 in ./.venv/lib/python3.12/site-packages (from torch>=1.6->cellpose==3.1.1.1->-r requirements.txt (line 4)) (11.6.1.9)\n",
      "Requirement already satisfied: nvidia-cusparse-cu12==12.3.1.170 in ./.venv/lib/python3.12/site-packages (from torch>=1.6->cellpose==3.1.1.1->-r requirements.txt (line 4)) (12.3.1.170)\n",
      "Requirement already satisfied: nvidia-cusparselt-cu12==0.6.2 in ./.venv/lib/python3.12/site-packages (from torch>=1.6->cellpose==3.1.1.1->-r requirements.txt (line 4)) (0.6.2)\n",
      "Requirement already satisfied: nvidia-nccl-cu12==2.21.5 in ./.venv/lib/python3.12/site-packages (from torch>=1.6->cellpose==3.1.1.1->-r requirements.txt (line 4)) (2.21.5)\n",
      "Requirement already satisfied: nvidia-nvtx-cu12==12.4.127 in ./.venv/lib/python3.12/site-packages (from torch>=1.6->cellpose==3.1.1.1->-r requirements.txt (line 4)) (12.4.127)\n",
      "Requirement already satisfied: nvidia-nvjitlink-cu12==12.4.127 in ./.venv/lib/python3.12/site-packages (from torch>=1.6->cellpose==3.1.1.1->-r requirements.txt (line 4)) (12.4.127)\n",
      "Requirement already satisfied: triton==3.2.0 in ./.venv/lib/python3.12/site-packages (from torch>=1.6->cellpose==3.1.1.1->-r requirements.txt (line 4)) (3.2.0)\n",
      "Requirement already satisfied: setuptools in ./.venv/lib/python3.12/site-packages (from torch>=1.6->cellpose==3.1.1.1->-r requirements.txt (line 4)) (78.1.0)\n",
      "Requirement already satisfied: sympy==1.13.1 in ./.venv/lib/python3.12/site-packages (from torch>=1.6->cellpose==3.1.1.1->-r requirements.txt (line 4)) (1.13.1)\n",
      "Requirement already satisfied: mpmath<1.4,>=1.1.0 in ./.venv/lib/python3.12/site-packages (from sympy==1.13.1->torch>=1.6->cellpose==3.1.1.1->-r requirements.txt (line 4)) (1.3.0)\n",
      "Requirement already satisfied: pandas>=2.1 in ./.venv/lib/python3.12/site-packages (from xarray>=0.16.1->bioio-nd2==1.0.1->-r requirements.txt (line 2)) (2.2.3)\n",
      "Requirement already satisfied: async-lru>=1.0.0 in ./.venv/lib/python3.12/site-packages (from jupyterlab->jupyter==1.1.1->-r requirements.txt (line 8)) (2.0.5)\n",
      "Requirement already satisfied: httpx>=0.25.0 in ./.venv/lib/python3.12/site-packages (from jupyterlab->jupyter==1.1.1->-r requirements.txt (line 8)) (0.28.1)\n",
      "Requirement already satisfied: jupyter-lsp>=2.0.0 in ./.venv/lib/python3.12/site-packages (from jupyterlab->jupyter==1.1.1->-r requirements.txt (line 8)) (2.2.5)\n",
      "Requirement already satisfied: jupyter-server<3,>=2.4.0 in ./.venv/lib/python3.12/site-packages (from jupyterlab->jupyter==1.1.1->-r requirements.txt (line 8)) (2.15.0)\n",
      "Requirement already satisfied: jupyterlab-server<3,>=2.27.1 in ./.venv/lib/python3.12/site-packages (from jupyterlab->jupyter==1.1.1->-r requirements.txt (line 8)) (2.27.3)\n",
      "Requirement already satisfied: notebook-shim>=0.2 in ./.venv/lib/python3.12/site-packages (from jupyterlab->jupyter==1.1.1->-r requirements.txt (line 8)) (0.2.4)\n",
      "Requirement already satisfied: beautifulsoup4 in ./.venv/lib/python3.12/site-packages (from nbconvert->jupyter==1.1.1->-r requirements.txt (line 8)) (4.13.3)\n",
      "Requirement already satisfied: bleach!=5.0.0 in ./.venv/lib/python3.12/site-packages (from bleach[css]!=5.0.0->nbconvert->jupyter==1.1.1->-r requirements.txt (line 8)) (6.2.0)\n",
      "Requirement already satisfied: defusedxml in ./.venv/lib/python3.12/site-packages (from nbconvert->jupyter==1.1.1->-r requirements.txt (line 8)) (0.7.1)\n",
      "Requirement already satisfied: jupyterlab-pygments in ./.venv/lib/python3.12/site-packages (from nbconvert->jupyter==1.1.1->-r requirements.txt (line 8)) (0.3.0)\n",
      "Requirement already satisfied: markupsafe>=2.0 in ./.venv/lib/python3.12/site-packages (from nbconvert->jupyter==1.1.1->-r requirements.txt (line 8)) (3.0.2)\n",
      "Requirement already satisfied: mistune<4,>=2.0.3 in ./.venv/lib/python3.12/site-packages (from nbconvert->jupyter==1.1.1->-r requirements.txt (line 8)) (3.1.3)\n",
      "Requirement already satisfied: nbclient>=0.5.0 in ./.venv/lib/python3.12/site-packages (from nbconvert->jupyter==1.1.1->-r requirements.txt (line 8)) (0.10.2)\n",
      "Requirement already satisfied: nbformat>=5.7 in ./.venv/lib/python3.12/site-packages (from nbconvert->jupyter==1.1.1->-r requirements.txt (line 8)) (5.10.4)\n",
      "Requirement already satisfied: pandocfilters>=1.4.1 in ./.venv/lib/python3.12/site-packages (from nbconvert->jupyter==1.1.1->-r requirements.txt (line 8)) (1.5.1)\n",
      "Requirement already satisfied: aiohappyeyeballs>=2.3.0 in ./.venv/lib/python3.12/site-packages (from aiohttp<4->ome-zarr>=0.6.1->bioio==1.4.0->-r requirements.txt (line 1)) (2.6.1)\n",
      "Requirement already satisfied: aiosignal>=1.1.2 in ./.venv/lib/python3.12/site-packages (from aiohttp<4->ome-zarr>=0.6.1->bioio==1.4.0->-r requirements.txt (line 1)) (1.3.2)\n",
      "Requirement already satisfied: attrs>=17.3.0 in ./.venv/lib/python3.12/site-packages (from aiohttp<4->ome-zarr>=0.6.1->bioio==1.4.0->-r requirements.txt (line 1)) (25.3.0)\n",
      "Requirement already satisfied: frozenlist>=1.1.1 in ./.venv/lib/python3.12/site-packages (from aiohttp<4->ome-zarr>=0.6.1->bioio==1.4.0->-r requirements.txt (line 1)) (1.5.0)\n",
      "Requirement already satisfied: multidict<7.0,>=4.5 in ./.venv/lib/python3.12/site-packages (from aiohttp<4->ome-zarr>=0.6.1->bioio==1.4.0->-r requirements.txt (line 1)) (6.3.1)\n",
      "Requirement already satisfied: propcache>=0.2.0 in ./.venv/lib/python3.12/site-packages (from aiohttp<4->ome-zarr>=0.6.1->bioio==1.4.0->-r requirements.txt (line 1)) (0.3.1)\n",
      "Requirement already satisfied: yarl<2.0,>=1.17.0 in ./.venv/lib/python3.12/site-packages (from aiohttp<4->ome-zarr>=0.6.1->bioio==1.4.0->-r requirements.txt (line 1)) (1.18.3)\n",
      "Requirement already satisfied: webencodings in ./.venv/lib/python3.12/site-packages (from bleach!=5.0.0->bleach[css]!=5.0.0->nbconvert->jupyter==1.1.1->-r requirements.txt (line 8)) (0.5.1)\n",
      "Requirement already satisfied: tinycss2<1.5,>=1.1.0 in ./.venv/lib/python3.12/site-packages (from bleach[css]!=5.0.0->nbconvert->jupyter==1.1.1->-r requirements.txt (line 8)) (1.4.0)\n",
      "Requirement already satisfied: locket>=1.0.0 in ./.venv/lib/python3.12/site-packages (from distributed->ome-zarr>=0.6.1->bioio==1.4.0->-r requirements.txt (line 1)) (1.0.0)\n",
      "Requirement already satisfied: msgpack>=1.0.2 in ./.venv/lib/python3.12/site-packages (from distributed->ome-zarr>=0.6.1->bioio==1.4.0->-r requirements.txt (line 1)) (1.1.0)\n",
      "Requirement already satisfied: sortedcontainers>=2.0.5 in ./.venv/lib/python3.12/site-packages (from distributed->ome-zarr>=0.6.1->bioio==1.4.0->-r requirements.txt (line 1)) (2.4.0)\n",
      "Requirement already satisfied: tblib>=1.6.0 in ./.venv/lib/python3.12/site-packages (from distributed->ome-zarr>=0.6.1->bioio==1.4.0->-r requirements.txt (line 1)) (3.1.0)\n",
      "Requirement already satisfied: urllib3>=1.26.5 in ./.venv/lib/python3.12/site-packages (from distributed->ome-zarr>=0.6.1->bioio==1.4.0->-r requirements.txt (line 1)) (2.3.0)\n",
      "Requirement already satisfied: zict>=3.0.0 in ./.venv/lib/python3.12/site-packages (from distributed->ome-zarr>=0.6.1->bioio==1.4.0->-r requirements.txt (line 1)) (3.0.0)\n",
      "Requirement already satisfied: s3fs in ./.venv/lib/python3.12/site-packages (from fsspec[s3]!=2021.07.0,!=2023.9.0,>=0.8->ome-zarr>=0.6.1->bioio==1.4.0->-r requirements.txt (line 1)) (2025.3.2)\n",
      "Requirement already satisfied: anyio in ./.venv/lib/python3.12/site-packages (from httpx>=0.25.0->jupyterlab->jupyter==1.1.1->-r requirements.txt (line 8)) (4.9.0)\n",
      "Requirement already satisfied: certifi in ./.venv/lib/python3.12/site-packages (from httpx>=0.25.0->jupyterlab->jupyter==1.1.1->-r requirements.txt (line 8)) (2025.1.31)\n",
      "Requirement already satisfied: httpcore==1.* in ./.venv/lib/python3.12/site-packages (from httpx>=0.25.0->jupyterlab->jupyter==1.1.1->-r requirements.txt (line 8)) (1.0.7)\n",
      "Requirement already satisfied: idna in ./.venv/lib/python3.12/site-packages (from httpx>=0.25.0->jupyterlab->jupyter==1.1.1->-r requirements.txt (line 8)) (3.10)\n",
      "Requirement already satisfied: h11<0.15,>=0.13 in ./.venv/lib/python3.12/site-packages (from httpcore==1.*->httpx>=0.25.0->jupyterlab->jupyter==1.1.1->-r requirements.txt (line 8)) (0.14.0)\n",
      "Requirement already satisfied: wasmtime>=28.0.0 in ./.venv/lib/python3.12/site-packages (from itkwasm>=1.0b171->ngff-zarr<0.9.1,>=0.8.2->bioio==1.4.0->-r requirements.txt (line 1)) (31.0.0)\n",
      "Requirement already satisfied: itkwasm-downsample-wasi in ./.venv/lib/python3.12/site-packages (from itkwasm-downsample>=1.2.0->ngff-zarr<0.9.1,>=0.8.2->bioio==1.4.0->-r requirements.txt (line 1)) (1.6.0)\n",
      "Requirement already satisfied: parso<0.9.0,>=0.8.4 in ./.venv/lib/python3.12/site-packages (from jedi>=0.16->ipython>=7.23.1->ipykernel==6.29.5->-r requirements.txt (line 6)) (0.8.4)\n",
      "Requirement already satisfied: argon2-cffi>=21.1 in ./.venv/lib/python3.12/site-packages (from jupyter-server<3,>=2.4.0->jupyterlab->jupyter==1.1.1->-r requirements.txt (line 8)) (23.1.0)\n",
      "Requirement already satisfied: jupyter-events>=0.11.0 in ./.venv/lib/python3.12/site-packages (from jupyter-server<3,>=2.4.0->jupyterlab->jupyter==1.1.1->-r requirements.txt (line 8)) (0.12.0)\n",
      "Requirement already satisfied: jupyter-server-terminals>=0.4.4 in ./.venv/lib/python3.12/site-packages (from jupyter-server<3,>=2.4.0->jupyterlab->jupyter==1.1.1->-r requirements.txt (line 8)) (0.5.3)\n",
      "Requirement already satisfied: overrides>=5.0 in ./.venv/lib/python3.12/site-packages (from jupyter-server<3,>=2.4.0->jupyterlab->jupyter==1.1.1->-r requirements.txt (line 8)) (7.7.0)\n",
      "Requirement already satisfied: prometheus-client>=0.9 in ./.venv/lib/python3.12/site-packages (from jupyter-server<3,>=2.4.0->jupyterlab->jupyter==1.1.1->-r requirements.txt (line 8)) (0.21.1)\n",
      "Requirement already satisfied: send2trash>=1.8.2 in ./.venv/lib/python3.12/site-packages (from jupyter-server<3,>=2.4.0->jupyterlab->jupyter==1.1.1->-r requirements.txt (line 8)) (1.8.3)\n",
      "Requirement already satisfied: terminado>=0.8.3 in ./.venv/lib/python3.12/site-packages (from jupyter-server<3,>=2.4.0->jupyterlab->jupyter==1.1.1->-r requirements.txt (line 8)) (0.18.1)\n",
      "Requirement already satisfied: websocket-client>=1.7 in ./.venv/lib/python3.12/site-packages (from jupyter-server<3,>=2.4.0->jupyterlab->jupyter==1.1.1->-r requirements.txt (line 8)) (1.8.0)\n",
      "Requirement already satisfied: babel>=2.10 in ./.venv/lib/python3.12/site-packages (from jupyterlab-server<3,>=2.27.1->jupyterlab->jupyter==1.1.1->-r requirements.txt (line 8)) (2.17.0)\n",
      "Requirement already satisfied: json5>=0.9.0 in ./.venv/lib/python3.12/site-packages (from jupyterlab-server<3,>=2.27.1->jupyterlab->jupyter==1.1.1->-r requirements.txt (line 8)) (0.11.0)\n",
      "Requirement already satisfied: jsonschema>=4.18.0 in ./.venv/lib/python3.12/site-packages (from jupyterlab-server<3,>=2.27.1->jupyterlab->jupyter==1.1.1->-r requirements.txt (line 8)) (4.23.0)\n",
      "Requirement already satisfied: fastjsonschema>=2.15 in ./.venv/lib/python3.12/site-packages (from nbformat>=5.7->nbconvert->jupyter==1.1.1->-r requirements.txt (line 8)) (2.21.1)\n",
      "Requirement already satisfied: pytz>=2020.1 in ./.venv/lib/python3.12/site-packages (from pandas>=2.1->xarray>=0.16.1->bioio-nd2==1.0.1->-r requirements.txt (line 2)) (2025.2)\n",
      "Requirement already satisfied: tzdata>=2022.7 in ./.venv/lib/python3.12/site-packages (from pandas>=2.1->xarray>=0.16.1->bioio-nd2==1.0.1->-r requirements.txt (line 2)) (2025.2)\n",
      "Requirement already satisfied: ptyprocess>=0.5 in ./.venv/lib/python3.12/site-packages (from pexpect>4.3->ipython>=7.23.1->ipykernel==6.29.5->-r requirements.txt (line 6)) (0.7.0)\n",
      "Requirement already satisfied: wcwidth in ./.venv/lib/python3.12/site-packages (from prompt_toolkit<3.1.0,>=3.0.41->ipython>=7.23.1->ipykernel==6.29.5->-r requirements.txt (line 6)) (0.2.13)\n",
      "Requirement already satisfied: annotated-types>=0.6.0 in ./.venv/lib/python3.12/site-packages (from pydantic>=2.4->ome-types>=0.4.0->ome-types[lxml]>=0.4.0->bioio==1.4.0->-r requirements.txt (line 1)) (0.7.0)\n",
      "Requirement already satisfied: pydantic-core==2.33.0 in ./.venv/lib/python3.12/site-packages (from pydantic>=2.4->ome-types>=0.4.0->ome-types[lxml]>=0.4.0->bioio==1.4.0->-r requirements.txt (line 1)) (2.33.0)\n",
      "Requirement already satisfied: typing-inspection>=0.4.0 in ./.venv/lib/python3.12/site-packages (from pydantic>=2.4->ome-types>=0.4.0->ome-types[lxml]>=0.4.0->bioio==1.4.0->-r requirements.txt (line 1)) (0.4.0)\n",
      "Requirement already satisfied: charset-normalizer<4,>=2 in ./.venv/lib/python3.12/site-packages (from requests->ome-zarr>=0.6.1->bioio==1.4.0->-r requirements.txt (line 1)) (3.4.1)\n",
      "Requirement already satisfied: soupsieve>1.2 in ./.venv/lib/python3.12/site-packages (from beautifulsoup4->nbconvert->jupyter==1.1.1->-r requirements.txt (line 8)) (2.6)\n",
      "Requirement already satisfied: wrapt<2,>=1.10 in ./.venv/lib/python3.12/site-packages (from deprecated->numcodecs!=0.14.0,!=0.14.1,>=0.10.0->zarr==2.18.5->-r requirements.txt (line 11)) (1.17.2)\n",
      "Requirement already satisfied: markdown-it-py>=2.2.0 in ./.venv/lib/python3.12/site-packages (from rich->ngff-zarr<0.9.1,>=0.8.2->bioio==1.4.0->-r requirements.txt (line 1)) (3.0.0)\n",
      "Requirement already satisfied: executing>=1.2.0 in ./.venv/lib/python3.12/site-packages (from stack_data->ipython>=7.23.1->ipykernel==6.29.5->-r requirements.txt (line 6)) (2.2.0)\n",
      "Requirement already satisfied: asttokens>=2.1.0 in ./.venv/lib/python3.12/site-packages (from stack_data->ipython>=7.23.1->ipykernel==6.29.5->-r requirements.txt (line 6)) (3.0.0)\n",
      "Requirement already satisfied: pure-eval in ./.venv/lib/python3.12/site-packages (from stack_data->ipython>=7.23.1->ipykernel==6.29.5->-r requirements.txt (line 6)) (0.2.3)\n",
      "Requirement already satisfied: sniffio>=1.1 in ./.venv/lib/python3.12/site-packages (from anyio->httpx>=0.25.0->jupyterlab->jupyter==1.1.1->-r requirements.txt (line 8)) (1.3.1)\n",
      "Requirement already satisfied: argon2-cffi-bindings in ./.venv/lib/python3.12/site-packages (from argon2-cffi>=21.1->jupyter-server<3,>=2.4.0->jupyterlab->jupyter==1.1.1->-r requirements.txt (line 8)) (21.2.0)\n",
      "Requirement already satisfied: jsonschema-specifications>=2023.03.6 in ./.venv/lib/python3.12/site-packages (from jsonschema>=4.18.0->jupyterlab-server<3,>=2.27.1->jupyterlab->jupyter==1.1.1->-r requirements.txt (line 8)) (2024.10.1)\n",
      "Requirement already satisfied: referencing>=0.28.4 in ./.venv/lib/python3.12/site-packages (from jsonschema>=4.18.0->jupyterlab-server<3,>=2.27.1->jupyterlab->jupyter==1.1.1->-r requirements.txt (line 8)) (0.36.2)\n",
      "Requirement already satisfied: rpds-py>=0.7.1 in ./.venv/lib/python3.12/site-packages (from jsonschema>=4.18.0->jupyterlab-server<3,>=2.27.1->jupyterlab->jupyter==1.1.1->-r requirements.txt (line 8)) (0.24.0)\n",
      "Requirement already satisfied: python-json-logger>=2.0.4 in ./.venv/lib/python3.12/site-packages (from jupyter-events>=0.11.0->jupyter-server<3,>=2.4.0->jupyterlab->jupyter==1.1.1->-r requirements.txt (line 8)) (3.3.0)\n",
      "Requirement already satisfied: rfc3339-validator in ./.venv/lib/python3.12/site-packages (from jupyter-events>=0.11.0->jupyter-server<3,>=2.4.0->jupyterlab->jupyter==1.1.1->-r requirements.txt (line 8)) (0.1.4)\n",
      "Requirement already satisfied: rfc3986-validator>=0.1.1 in ./.venv/lib/python3.12/site-packages (from jupyter-events>=0.11.0->jupyter-server<3,>=2.4.0->jupyterlab->jupyter==1.1.1->-r requirements.txt (line 8)) (0.1.1)\n",
      "Requirement already satisfied: mdurl~=0.1 in ./.venv/lib/python3.12/site-packages (from markdown-it-py>=2.2.0->rich->ngff-zarr<0.9.1,>=0.8.2->bioio==1.4.0->-r requirements.txt (line 1)) (0.1.2)\n",
      "Requirement already satisfied: importlib_resources>=5.10 in ./.venv/lib/python3.12/site-packages (from wasmtime>=28.0.0->itkwasm>=1.0b171->ngff-zarr<0.9.1,>=0.8.2->bioio==1.4.0->-r requirements.txt (line 1)) (6.5.2)\n",
      "Requirement already satisfied: aiobotocore<3.0.0,>=2.5.4 in ./.venv/lib/python3.12/site-packages (from s3fs->fsspec[s3]!=2021.07.0,!=2023.9.0,>=0.8->ome-zarr>=0.6.1->bioio==1.4.0->-r requirements.txt (line 1)) (2.21.1)\n",
      "Requirement already satisfied: aioitertools<1.0.0,>=0.5.1 in ./.venv/lib/python3.12/site-packages (from aiobotocore<3.0.0,>=2.5.4->s3fs->fsspec[s3]!=2021.07.0,!=2023.9.0,>=0.8->ome-zarr>=0.6.1->bioio==1.4.0->-r requirements.txt (line 1)) (0.12.0)\n",
      "Requirement already satisfied: botocore<1.37.2,>=1.37.0 in ./.venv/lib/python3.12/site-packages (from aiobotocore<3.0.0,>=2.5.4->s3fs->fsspec[s3]!=2021.07.0,!=2023.9.0,>=0.8->ome-zarr>=0.6.1->bioio==1.4.0->-r requirements.txt (line 1)) (1.37.1)\n",
      "Requirement already satisfied: jmespath<2.0.0,>=0.7.1 in ./.venv/lib/python3.12/site-packages (from aiobotocore<3.0.0,>=2.5.4->s3fs->fsspec[s3]!=2021.07.0,!=2023.9.0,>=0.8->ome-zarr>=0.6.1->bioio==1.4.0->-r requirements.txt (line 1)) (1.0.1)\n",
      "Requirement already satisfied: fqdn in ./.venv/lib/python3.12/site-packages (from jsonschema[format-nongpl]>=4.18.0->jupyter-events>=0.11.0->jupyter-server<3,>=2.4.0->jupyterlab->jupyter==1.1.1->-r requirements.txt (line 8)) (1.5.1)\n",
      "Requirement already satisfied: isoduration in ./.venv/lib/python3.12/site-packages (from jsonschema[format-nongpl]>=4.18.0->jupyter-events>=0.11.0->jupyter-server<3,>=2.4.0->jupyterlab->jupyter==1.1.1->-r requirements.txt (line 8)) (20.11.0)\n",
      "Requirement already satisfied: jsonpointer>1.13 in ./.venv/lib/python3.12/site-packages (from jsonschema[format-nongpl]>=4.18.0->jupyter-events>=0.11.0->jupyter-server<3,>=2.4.0->jupyterlab->jupyter==1.1.1->-r requirements.txt (line 8)) (3.0.0)\n",
      "Requirement already satisfied: uri-template in ./.venv/lib/python3.12/site-packages (from jsonschema[format-nongpl]>=4.18.0->jupyter-events>=0.11.0->jupyter-server<3,>=2.4.0->jupyterlab->jupyter==1.1.1->-r requirements.txt (line 8)) (1.3.0)\n",
      "Requirement already satisfied: webcolors>=24.6.0 in ./.venv/lib/python3.12/site-packages (from jsonschema[format-nongpl]>=4.18.0->jupyter-events>=0.11.0->jupyter-server<3,>=2.4.0->jupyterlab->jupyter==1.1.1->-r requirements.txt (line 8)) (24.11.1)\n",
      "Requirement already satisfied: cffi>=1.0.1 in ./.venv/lib/python3.12/site-packages (from argon2-cffi-bindings->argon2-cffi>=21.1->jupyter-server<3,>=2.4.0->jupyterlab->jupyter==1.1.1->-r requirements.txt (line 8)) (1.17.1)\n",
      "Requirement already satisfied: pycparser in ./.venv/lib/python3.12/site-packages (from cffi>=1.0.1->argon2-cffi-bindings->argon2-cffi>=21.1->jupyter-server<3,>=2.4.0->jupyterlab->jupyter==1.1.1->-r requirements.txt (line 8)) (2.22)\n",
      "Requirement already satisfied: arrow>=0.15.0 in ./.venv/lib/python3.12/site-packages (from isoduration->jsonschema[format-nongpl]>=4.18.0->jupyter-events>=0.11.0->jupyter-server<3,>=2.4.0->jupyterlab->jupyter==1.1.1->-r requirements.txt (line 8)) (1.3.0)\n",
      "Requirement already satisfied: types-python-dateutil>=2.8.10 in ./.venv/lib/python3.12/site-packages (from arrow>=0.15.0->isoduration->jsonschema[format-nongpl]>=4.18.0->jupyter-events>=0.11.0->jupyter-server<3,>=2.4.0->jupyterlab->jupyter==1.1.1->-r requirements.txt (line 8)) (2.9.0.20241206)\n"
     ]
    }
   ],
   "source": [
    "# Install dependencies\n",
    "!pip install -r requirements.txt"
   ]
  },
  {
   "cell_type": "code",
   "execution_count": 1,
   "id": "d09b102b",
   "metadata": {},
   "outputs": [],
   "source": [
    "# Import libraries\n",
    "import bioio\n",
    "import cellpose\n",
    "import cellpose.models\n",
    "import dask\n",
    "from ipywidgets import *\n",
    "import matplotlib.pyplot as plt\n",
    "import numpy\n",
    "import pandas\n",
    "from scipy.spatial.distance import dice\n",
    "from skimage.metrics import contingency_table\n",
    "from sklearn.metrics import jaccard_score, precision_score, recall_score"
   ]
  },
  {
   "cell_type": "markdown",
   "id": "590961ae",
   "metadata": {},
   "source": [
    "### 2. Download C3_B4.tif from IDR\n",
    "\n",
    "Using the filepath, it is possible to download locally the image by running from a terminal:\n",
    "\n",
    "```bash\n",
    "wget https://ftp.ebi.ac.uk/pub/databases/IDR/idr0062-blin-nuclearsegmentation/20190429-ftp/Blastocysts/B4_C3.tif\n",
    "```\n",
    "\n",
    "or, alternatively, by using the Python `ftputil` library:"
   ]
  },
  {
   "cell_type": "code",
   "execution_count": 2,
   "id": "17e99917",
   "metadata": {},
   "outputs": [],
   "source": [
    "import ftputil\n",
    "import os\n",
    "\n",
    "files = [\n",
    "    \"pub/databases/IDR/idr0062-blin-nuclearsegmentation/20190429-ftp/Blastocysts/B4_C3.tif\",\n",
    "    \"pub/databases/IDR/idr0062-blin-nuclearsegmentation/20190429-ftp/Blastocysts/B4_C3_Manual.tif\",\n",
    "]\n",
    "\n",
    "with ftputil.FTPHost(\"ftp.ebi.ac.uk\", \"anonymous\") as host:\n",
    "    names = host.listdir(host.curdir)\n",
    "    for name in names:\n",
    "        if name == \"pub\":  # only check the IDR data\n",
    "            for file in files:\n",
    "                filepath = os.path.join(\"data\", os.path.basename(file))\n",
    "                if host.path.isfile(file):\n",
    "                    host.download(file, filepath)"
   ]
  },
  {
   "cell_type": "markdown",
   "id": "0e311b0c",
   "metadata": {},
   "source": [
    "### 3. Try to open in BioIO\n",
    "\n",
    "The `bioio` package requires `bioio-tifffile` plugin to be able to load the image as downloaded."
   ]
  },
  {
   "cell_type": "code",
   "execution_count": 3,
   "id": "79395629",
   "metadata": {},
   "outputs": [],
   "source": [
    "filepath = os.path.join(\"data\", \"B4_C3.tif\")\n",
    "labelspath = os.path.join(\"data\", \"B4_C3_Manual.tif\")"
   ]
  },
  {
   "cell_type": "code",
   "execution_count": 4,
   "id": "e2dcca70",
   "metadata": {},
   "outputs": [
    {
     "name": "stdout",
     "output_type": "stream",
     "text": [
      "<Dimensions [T: 1, C: 2, Z: 257, Y: 210, X: 253]>\n",
      "(1, 2, 257, 210, 253)\n"
     ]
    }
   ],
   "source": [
    "# Load the image\n",
    "images = bioio.BioImage(filepath)\n",
    "\n",
    "# Load the label\n",
    "labels = bioio.BioImage(labelspath)\n",
    "\n",
    "# (T, C, Z, Y, X)\n",
    "print(images.dims)\n",
    "print(images.shape)"
   ]
  },
  {
   "cell_type": "code",
   "execution_count": 5,
   "id": "a9a35c31",
   "metadata": {},
   "outputs": [
    {
     "data": {
      "application/vnd.jupyter.widget-view+json": {
       "model_id": "36559e10745a419f8e28a791a90f97b3",
       "version_major": 2,
       "version_minor": 0
      },
      "text/plain": [
       "interactive(children=(IntSlider(value=0, continuous_update=False, description='Select T', max=256), IntSlider(…"
      ]
     },
     "metadata": {},
     "output_type": "display_data"
    },
    {
     "data": {
      "text/plain": [
       "<function __main__.update(z=0, c=0)>"
      ]
     },
     "execution_count": 5,
     "metadata": {},
     "output_type": "execute_result"
    }
   ],
   "source": [
    "def update(z=0, c=0):\n",
    "    fig = plt.figure(figsize=(10, 10))\n",
    "    plt.imshow(images.data[0, c, z, :, :])\n",
    "    plt.tight_layout()\n",
    "    fig.canvas.flush_events()\n",
    "\n",
    "\n",
    "interact(\n",
    "    update,\n",
    "    z=widgets.IntSlider(\n",
    "        value=0,\n",
    "        min=0,\n",
    "        max=images.data.shape[2] - 1,\n",
    "        step=1,\n",
    "        description=\"Select T\",\n",
    "        continuous_update=False,\n",
    "    ),\n",
    "    c=widgets.IntSlider(\n",
    "        value=0,\n",
    "        min=0,\n",
    "        max=images.data.shape[1] - 1,\n",
    "        step=1,\n",
    "        description=\"Select C\",\n",
    "        continuous_update=False,\n",
    "    ),\n",
    ")"
   ]
  },
  {
   "cell_type": "markdown",
   "id": "0d5b5fd4",
   "metadata": {},
   "source": [
    "### 4. Select two Z-planes around the middle of the stack"
   ]
  },
  {
   "cell_type": "code",
   "execution_count": 6,
   "id": "c77034a1",
   "metadata": {},
   "outputs": [
    {
     "name": "stdout",
     "output_type": "stream",
     "text": [
      "BioIO shape: (1, 2, 257, 210, 253)\n",
      "Selected images shape: (2, 3, 210, 253)\n"
     ]
    }
   ],
   "source": [
    "# Define the Z-planes to select\n",
    "Z = [89, 90, 91]\n",
    "\n",
    "# Select two Z-planes (indices 89 and 90) and stack them along a new axis\n",
    "selected_images = numpy.stack([images.data[0, :, z, :, :] for z in Z], axis=1)\n",
    "\n",
    "print(f\"BioIO shape: {images.data.shape}\")\n",
    "print(f\"Selected images shape: {selected_images.shape}\")\n"
   ]
  },
  {
   "cell_type": "markdown",
   "id": "1a612c31",
   "metadata": {},
   "source": [
    "### 5. Process the selected planes using Cellpose API with the default cyto model"
   ]
  },
  {
   "cell_type": "code",
   "execution_count": 9,
   "id": "a97b908d",
   "metadata": {},
   "outputs": [
    {
     "data": {
      "text/html": [
       "<table>\n",
       "    <tr>\n",
       "        <td>\n",
       "            <table style=\"border-collapse: collapse;\">\n",
       "                <thead>\n",
       "                    <tr>\n",
       "                        <td> </td>\n",
       "                        <th> Array </th>\n",
       "                        <th> Chunk </th>\n",
       "                    </tr>\n",
       "                </thead>\n",
       "                <tbody>\n",
       "                    \n",
       "                    <tr>\n",
       "                        <th> Bytes </th>\n",
       "                        <td> 622.62 kiB </td>\n",
       "                        <td> 207.54 kiB </td>\n",
       "                    </tr>\n",
       "                    \n",
       "                    <tr>\n",
       "                        <th> Shape </th>\n",
       "                        <td> (2, 3, 210, 253) </td>\n",
       "                        <td> (2, 1, 210, 253) </td>\n",
       "                    </tr>\n",
       "                    <tr>\n",
       "                        <th> Dask graph </th>\n",
       "                        <td colspan=\"2\"> 3 chunks in 1 graph layer </td>\n",
       "                    </tr>\n",
       "                    <tr>\n",
       "                        <th> Data type </th>\n",
       "                        <td colspan=\"2\"> uint16 numpy.ndarray </td>\n",
       "                    </tr>\n",
       "                </tbody>\n",
       "            </table>\n",
       "        </td>\n",
       "        <td>\n",
       "        <svg width=\"375\" height=\"165\" style=\"stroke:rgb(0,0,0);stroke-width:1\" >\n",
       "\n",
       "  <!-- Horizontal lines -->\n",
       "  <line x1=\"0\" y1=\"0\" x2=\"25\" y2=\"0\" style=\"stroke-width:2\" />\n",
       "  <line x1=\"0\" y1=\"25\" x2=\"25\" y2=\"25\" style=\"stroke-width:2\" />\n",
       "\n",
       "  <!-- Vertical lines -->\n",
       "  <line x1=\"0\" y1=\"0\" x2=\"0\" y2=\"25\" style=\"stroke-width:2\" />\n",
       "  <line x1=\"25\" y1=\"0\" x2=\"25\" y2=\"25\" style=\"stroke-width:2\" />\n",
       "\n",
       "  <!-- Colored Rectangle -->\n",
       "  <polygon points=\"0.0,0.0 25.412616514582485,0.0 25.412616514582485,25.412616514582485 0.0,25.412616514582485\" style=\"fill:#ECB172A0;stroke-width:0\"/>\n",
       "\n",
       "  <!-- Text -->\n",
       "  <text x=\"12.706308\" y=\"45.412617\" font-size=\"1.0rem\" font-weight=\"100\" text-anchor=\"middle\" >2</text>\n",
       "  <text x=\"45.412617\" y=\"12.706308\" font-size=\"1.0rem\" font-weight=\"100\" text-anchor=\"middle\" transform=\"rotate(0,45.412617,12.706308)\">1</text>\n",
       "\n",
       "\n",
       "  <!-- Horizontal lines -->\n",
       "  <line x1=\"95\" y1=\"0\" x2=\"110\" y2=\"15\" style=\"stroke-width:2\" />\n",
       "  <line x1=\"95\" y1=\"99\" x2=\"110\" y2=\"115\" style=\"stroke-width:2\" />\n",
       "\n",
       "  <!-- Vertical lines -->\n",
       "  <line x1=\"95\" y1=\"0\" x2=\"95\" y2=\"99\" style=\"stroke-width:2\" />\n",
       "  <line x1=\"100\" y1=\"5\" x2=\"100\" y2=\"104\" />\n",
       "  <line x1=\"105\" y1=\"10\" x2=\"105\" y2=\"109\" />\n",
       "  <line x1=\"110\" y1=\"15\" x2=\"110\" y2=\"115\" style=\"stroke-width:2\" />\n",
       "\n",
       "  <!-- Colored Rectangle -->\n",
       "  <polygon points=\"95.0,0.0 110.43938822155313,15.439388221553125 110.43938822155313,115.0441313045571 95.0,99.60474308300397\" style=\"fill:#ECB172A0;stroke-width:0\"/>\n",
       "\n",
       "  <!-- Horizontal lines -->\n",
       "  <line x1=\"95\" y1=\"0\" x2=\"215\" y2=\"0\" style=\"stroke-width:2\" />\n",
       "  <line x1=\"100\" y1=\"5\" x2=\"220\" y2=\"5\" />\n",
       "  <line x1=\"105\" y1=\"10\" x2=\"225\" y2=\"10\" />\n",
       "  <line x1=\"110\" y1=\"15\" x2=\"230\" y2=\"15\" style=\"stroke-width:2\" />\n",
       "\n",
       "  <!-- Vertical lines -->\n",
       "  <line x1=\"95\" y1=\"0\" x2=\"110\" y2=\"15\" style=\"stroke-width:2\" />\n",
       "  <line x1=\"215\" y1=\"0\" x2=\"230\" y2=\"15\" style=\"stroke-width:2\" />\n",
       "\n",
       "  <!-- Colored Rectangle -->\n",
       "  <polygon points=\"95.0,0.0 215.0,0.0 230.43938822155312,15.439388221553125 110.43938822155313,15.439388221553125\" style=\"fill:#ECB172A0;stroke-width:0\"/>\n",
       "\n",
       "  <!-- Horizontal lines -->\n",
       "  <line x1=\"110\" y1=\"15\" x2=\"230\" y2=\"15\" style=\"stroke-width:2\" />\n",
       "  <line x1=\"110\" y1=\"115\" x2=\"230\" y2=\"115\" style=\"stroke-width:2\" />\n",
       "\n",
       "  <!-- Vertical lines -->\n",
       "  <line x1=\"110\" y1=\"15\" x2=\"110\" y2=\"115\" style=\"stroke-width:2\" />\n",
       "  <line x1=\"230\" y1=\"15\" x2=\"230\" y2=\"115\" style=\"stroke-width:2\" />\n",
       "\n",
       "  <!-- Colored Rectangle -->\n",
       "  <polygon points=\"110.43938822155313,15.439388221553125 230.43938822155314,15.439388221553125 230.43938822155314,115.0441313045571 110.43938822155313,115.0441313045571\" style=\"fill:#ECB172A0;stroke-width:0\"/>\n",
       "\n",
       "  <!-- Text -->\n",
       "  <text x=\"170.439388\" y=\"135.044131\" font-size=\"1.0rem\" font-weight=\"100\" text-anchor=\"middle\" >253</text>\n",
       "  <text x=\"250.439388\" y=\"65.241760\" font-size=\"1.0rem\" font-weight=\"100\" text-anchor=\"middle\" transform=\"rotate(-90,250.439388,65.241760)\">210</text>\n",
       "  <text x=\"92.719694\" y=\"127.324437\" font-size=\"1.0rem\" font-weight=\"100\" text-anchor=\"middle\" transform=\"rotate(45,92.719694,127.324437)\">3</text>\n",
       "</svg>\n",
       "        </td>\n",
       "    </tr>\n",
       "</table>"
      ],
      "text/plain": [
       "dask.array<array, shape=(2, 3, 210, 253), dtype=uint16, chunksize=(2, 1, 210, 253), chunktype=numpy.ndarray>"
      ]
     },
     "execution_count": 9,
     "metadata": {},
     "output_type": "execute_result"
    }
   ],
   "source": [
    "# Convert the NumPy image data to a Dask array\n",
    "dask_img = dask.array.from_array(\n",
    "    selected_images,\n",
    "    chunks=(\n",
    "        selected_images.shape[0],\n",
    "        1,\n",
    "        selected_images.shape[2],\n",
    "        selected_images.shape[3],\n",
    "    ),\n",
    ")\n",
    "\n",
    "dask_img"
   ]
  },
  {
   "cell_type": "code",
   "execution_count": 21,
   "id": "3a42b8cd",
   "metadata": {},
   "outputs": [],
   "source": [
    "# Convert the NumPy image data to a Dask array\n",
    "import dask.delayed\n",
    "\n",
    "\n",
    "dask_img = dask.array.from_array(\n",
    "    selected_images,\n",
    "    chunks=(\n",
    "        selected_images.shape[0],\n",
    "        1,\n",
    "        selected_images.shape[2],\n",
    "        selected_images.shape[3],\n",
    "    ),\n",
    ")\n",
    "\n",
    "# Load the Cellpose model: cyto\n",
    "model = cellpose.models.Cellpose(model_type=\"cyto\", gpu=True)\n",
    "\n",
    "# Delayed function for segmentation\n",
    "@dask.delayed\n",
    "def segment(image):\n",
    "    # im_cyto_pre = gaussian(im_cytoplasm, sigma=0.5)\n",
    "    # im_cyto_pre = rescale_intensity(im_cyto_pre,out_range=(0,1))\n",
    "    # im_nuclei_pre = gaussian(im_nuclei, sigma=1)\n",
    "    # im_nuclei_pre = rescale_intensity(im_nuclei_pre,out_range=(0,1))\n",
    "    masks, _, _, _ = model.eval(image, diameter=50, min_size=10, channels=[0,1])\n",
    "    return masks"
   ]
  },
  {
   "cell_type": "code",
   "execution_count": 22,
   "id": "c02b16c2",
   "metadata": {},
   "outputs": [
    {
     "name": "stdout",
     "output_type": "stream",
     "text": [
      "CPU times: user 7.39 s, sys: 1.52 s, total: 8.91 s\n",
      "Wall time: 2.05 s\n"
     ]
    }
   ],
   "source": [
    "%%time\n",
    "# Perform segmentation with Dask\n",
    "results = dask.compute(*[segment(dask_img[:,z,:,:]) for z in range(dask_img.shape[1])])"
   ]
  },
  {
   "cell_type": "markdown",
   "id": "49cac1d3",
   "metadata": {},
   "source": [
    "### 6. Display the segmentation results\n",
    "\n",
    "We will use matplotlib to display the segmentation results. The output will show the Cellpose segmentation alongside the Nessys ground truth labels for comparison."
   ]
  },
  {
   "cell_type": "code",
   "execution_count": 23,
   "id": "4b33e21b",
   "metadata": {},
   "outputs": [
    {
     "data": {
      "application/vnd.jupyter.widget-view+json": {
       "model_id": "ef9b7e0c2fe34dfbadae08a529693639",
       "version_major": 2,
       "version_minor": 0
      },
      "text/plain": [
       "interactive(children=(IntSlider(value=0, continuous_update=False, description='Select T', max=2), Output()), _…"
      ]
     },
     "metadata": {},
     "output_type": "display_data"
    },
    {
     "data": {
      "text/plain": [
       "<function __main__.update(z=0)>"
      ]
     },
     "execution_count": 23,
     "metadata": {},
     "output_type": "execute_result"
    }
   ],
   "source": [
    "def update(z=0):\n",
    "    fig = plt.figure(figsize=(10, 10))\n",
    "    fig, ax = plt.subplots(1, 3, figsize=(10, 5))\n",
    "\n",
    "    # Original Image\n",
    "    ax[0].imshow(dask_img[0][z], cmap=\"Blues\")\n",
    "    # ax[0].imshow(dask_img[1][z], cmap=\"Reds\")\n",
    "    ax[0].set_title(f\"Original - {Z[z] + 1}\")\n",
    "    ax[0].axis(\"off\")\n",
    "    \n",
    "    # Segmented Image (Overlay)\n",
    "    # ax[1].imshow(dask_img[0][z], cmap=\"gray\")\n",
    "    ax[1].imshow(results[z], alpha=0.5, cmap=\"jet\")\n",
    "    ax[1].set_title(f\"Segmentation - {Z[z] + 1}\")\n",
    "    ax[1].axis(\"off\")\n",
    "    \n",
    "    # Labels Image\n",
    "    ax[2].imshow(labels.data[0, 0, Z[z], :, :], cmap=\"jet\")\n",
    "    ax[2].set_title(f\"Nessys' labels - {Z[z] + 1}\")\n",
    "    ax[2].axis(\"off\")\n",
    "\n",
    "    plt.tight_layout()\n",
    "    fig.canvas.flush_events()\n",
    "\n",
    "interact(\n",
    "    update,\n",
    "    z=widgets.IntSlider(\n",
    "        value=0,\n",
    "        min=0,\n",
    "        max=len(results) - 1,\n",
    "        step=1,\n",
    "        description=\"Select Z\",\n",
    "        continuous_update=False,\n",
    "    ),\n",
    ")"
   ]
  },
  {
   "cell_type": "code",
   "execution_count": 15,
   "id": "a55bbe4c",
   "metadata": {},
   "outputs": [
    {
     "data": {
      "text/plain": [
       "11"
      ]
     },
     "execution_count": 15,
     "metadata": {},
     "output_type": "execute_result"
    }
   ],
   "source": [
    "results[0].max()"
   ]
  },
  {
   "cell_type": "markdown",
   "id": "d7b3474a",
   "metadata": {},
   "source": [
    "## OME-Zarr files\n",
    "\n",
    "In this step, we will use the OME-Zarr format to analyze [6001247.zarr](https://uk1s3.embassy.ebi.ac.uk/idr/zarr/v0.1/6001247.zarr/0/) file. We will load the image using Dask and Cellpose and compare the results with the original Nessys segmentation."
   ]
  },
  {
   "cell_type": "markdown",
   "id": "220495a7",
   "metadata": {},
   "source": [
    "### 1. Load 6001247.zarr file instead of TIFF"
   ]
  },
  {
   "cell_type": "code",
   "execution_count": 24,
   "id": "752643e2",
   "metadata": {},
   "outputs": [],
   "source": [
    "# Image information\n",
    "IMAGE_ID = 6001247\n",
    "ENPOINT_URL = 'https://uk1s3.embassy.ebi.ac.uk/'"
   ]
  },
  {
   "cell_type": "code",
   "execution_count": 25,
   "id": "f1ac566a",
   "metadata": {},
   "outputs": [],
   "source": [
    "# Define a function to load binary data from S3\n",
    "def load_binary_from_s3(name, resolution='0'):\n",
    "    root = '%s/%s/' % (name, resolution)\n",
    "    return dask.array.from_zarr(ENPOINT_URL + root)"
   ]
  },
  {
   "cell_type": "code",
   "execution_count": 34,
   "id": "ba0701a4",
   "metadata": {},
   "outputs": [],
   "source": [
    "# Define the name of the Zarr file\n",
    "name = 'idr/zarr/v0.1/%s.zarr' % IMAGE_ID\n",
    "\n",
    "# Load the binary data from S3\n",
    "data = load_binary_from_s3(name, resolution='0')"
   ]
  },
  {
   "cell_type": "code",
   "execution_count": 35,
   "id": "8a78ca8a",
   "metadata": {},
   "outputs": [
    {
     "name": "stdout",
     "output_type": "stream",
     "text": [
      "Dask array shape: (1, 2, 257, 210, 253)\n"
     ]
    }
   ],
   "source": [
    "print(f\"Dask array shape: {data.shape}\")"
   ]
  },
  {
   "cell_type": "markdown",
   "id": "eedc158a",
   "metadata": {},
   "source": [
    "### 2. Read labels from the ome.zarr"
   ]
  },
  {
   "cell_type": "code",
   "execution_count": 54,
   "id": "843c8190",
   "metadata": {},
   "outputs": [],
   "source": [
    "# Define the name of the labels Zarr file\n",
    "name = 'idr/zarr/v0.1/%s.zarr/labels' % IMAGE_ID\n",
    "\n",
    "# Load the binary data from S3\n",
    "labels = load_binary_from_s3(name)"
   ]
  },
  {
   "cell_type": "code",
   "execution_count": 29,
   "id": "552bee54",
   "metadata": {},
   "outputs": [
    {
     "name": "stdout",
     "output_type": "stream",
     "text": [
      "Dask array shape: (1, 1, 257, 210, 253)\n"
     ]
    }
   ],
   "source": [
    "print(f\"Dask array shape: {labels.shape}\")"
   ]
  },
  {
   "cell_type": "markdown",
   "id": "6ea9044d",
   "metadata": {},
   "source": [
    "### 3. Analyze the image using Cellpose"
   ]
  },
  {
   "cell_type": "code",
   "execution_count": 37,
   "id": "eae49078",
   "metadata": {},
   "outputs": [
    {
     "name": "stdout",
     "output_type": "stream",
     "text": [
      "CPU times: user 13min 48s, sys: 2min 24s, total: 16min 13s\n",
      "Wall time: 2min 28s\n"
     ]
    }
   ],
   "source": [
    "%%time\n",
    "# Perform segmentation with Dask\n",
    "results = dask.compute(*[segment(data[0,:,z,:,:]) for z in range(data.shape[2])])"
   ]
  },
  {
   "cell_type": "code",
   "execution_count": 38,
   "id": "dbfd3d96",
   "metadata": {},
   "outputs": [
    {
     "data": {
      "application/vnd.jupyter.widget-view+json": {
       "model_id": "2921d4238e7448dcbb9268913bb1d9c2",
       "version_major": 2,
       "version_minor": 0
      },
      "text/plain": [
       "interactive(children=(IntSlider(value=0, continuous_update=False, description='Select T', max=256), Output()),…"
      ]
     },
     "metadata": {},
     "output_type": "display_data"
    },
    {
     "data": {
      "text/plain": [
       "<function __main__.update(z=0)>"
      ]
     },
     "execution_count": 38,
     "metadata": {},
     "output_type": "execute_result"
    }
   ],
   "source": [
    "def update(z=0):\n",
    "    fig = plt.figure(figsize=(10, 10))\n",
    "    fig, ax = plt.subplots(1, 3, figsize=(10, 5))\n",
    "\n",
    "    # Original Image\n",
    "    ax[0].imshow(data[0, 0, z, :, :], cmap=\"Blues\")\n",
    "    ax[0].imshow(data[0, 1, z, :, :], cmap=\"Reds\", alpha=0.5)\n",
    "    ax[0].set_title(f\"Original (z={z + 1})\")\n",
    "    ax[0].axis(\"off\")\n",
    "    \n",
    "    # Segmented Image (Overlay)\n",
    "    ax[1].imshow(data[0, 0, z, :, :], cmap=\"gray\")\n",
    "    ax[1].imshow(results[z], alpha=0.5, cmap=\"jet\")\n",
    "    ax[1].set_title(f\"Segmentation (z={z + 1})\")\n",
    "    ax[1].axis(\"off\")\n",
    "    \n",
    "    # Labels Image\n",
    "    ax[2].imshow(labels[0, 0, z, :, :], cmap=\"jet\")\n",
    "    ax[2].set_title(f\"Nessys' labels (z={z + 1})\")\n",
    "    ax[2].axis(\"off\")\n",
    "\n",
    "    plt.tight_layout()\n",
    "    fig.canvas.flush_events()\n",
    "\n",
    "interact(\n",
    "    update,\n",
    "    z=widgets.IntSlider(\n",
    "        value=0,\n",
    "        min=0,\n",
    "        max=len(results) - 1,\n",
    "        step=1,\n",
    "        description=\"Select T\",\n",
    "        continuous_update=False,\n",
    "    ),\n",
    ")"
   ]
  },
  {
   "cell_type": "markdown",
   "id": "630789fe",
   "metadata": {},
   "source": [
    "### 4. Compare the labels with the Cellpose segmentation\n",
    "\n",
    "We will compare Cellpose segmentations with Nessys labels using standard segmentation metrics. These metrics help evaluate overlap, precision, and segmentation accuracy.\n",
    "\n",
    "1. Intersection over Union (IoU) - Jaccard Index\n",
    "\n",
    "Measures overlap accuracy between predicted and ground truth segmentation.\n",
    "\n",
    "$$\n",
    "IoU = J(A,B) = \\frac{|A \\cap B|}{|A \\cup B|} \\in [0,1]\n",
    "$$\n",
    "\n",
    "- **0.0** → No overlap at all (bad segmentation)\n",
    "- **1.0** → Perfect match (ideal segmentation)\n",
    "- **> 0.5** → Generally considered a good match in many applications\n",
    "\n",
    "2. Precision & Recall\n",
    "\n",
    "These metrics evaluate over-segmentation (avoids False Positives - FP) vs. under-segmentation (avoids False Negatives - FN).\n",
    "\n",
    "$$\n",
    "Precision = \\frac{TP}{TP + FP} \\in [0,1]\n",
    "$$\n",
    "\n",
    "$$\n",
    "Recall = \\frac{TP}{TP + FN} \\in [0,1]\n",
    "$$\n",
    "\n",
    "- **High precision, low recall**: Too conservative (many missed nuclei).  \n",
    "- **High recall, low precision**: Too aggressive (detects too many false nuclei).  \n",
    "\n",
    "3. Dice Coefficient (F1 Score for Segmentation)\n",
    "\n",
    "Measures similarity between segmentation masks, commonly used in biomedical imaging.\n",
    "\n",
    "$$\n",
    "Dice = \\frac{2|A \\cap B|}{|A| + |B|} \\in [0,1]\n",
    "$$\n",
    "\n",
    "- **0.0** → No overlap\n",
    "- **1.0** → Perfect match"
   ]
  },
  {
   "cell_type": "code",
   "execution_count": 67,
   "id": "456cb44c",
   "metadata": {},
   "outputs": [],
   "source": [
    "# Convert predictions to a numpy array\n",
    "predictions = numpy.stack(results)\n",
    "\n",
    "# Convert labels to a numpy array\n",
    "ground_truth = labels[0,0,:,:,:].compute()"
   ]
  },
  {
   "cell_type": "code",
   "execution_count": 116,
   "id": "ea469038",
   "metadata": {},
   "outputs": [
    {
     "name": "stderr",
     "output_type": "stream",
     "text": [
      "/home/jvsguerra/remote-repos/jvsguerra/MDA_Project_4/.venv/lib/python3.12/site-packages/scipy/spatial/distance.py:1506: RuntimeWarning: invalid value encountered in divide\n",
      "  return float((ntf + nft) / np.array(2.0 * ntt + ntf + nft))\n",
      "/home/jvsguerra/remote-repos/jvsguerra/MDA_Project_4/.venv/lib/python3.12/site-packages/scipy/spatial/distance.py:1506: RuntimeWarning: invalid value encountered in divide\n",
      "  return float((ntf + nft) / np.array(2.0 * ntt + ntf + nft))\n",
      "/home/jvsguerra/remote-repos/jvsguerra/MDA_Project_4/.venv/lib/python3.12/site-packages/sklearn/metrics/_classification.py:1565: UndefinedMetricWarning: Precision is ill-defined and being set to 0.0 in labels with no predicted samples. Use `zero_division` parameter to control this behavior.\n",
      "  _warn_prf(average, modifier, f\"{metric.capitalize()} is\", len(result))\n"
     ]
    },
    {
     "data": {
      "text/html": [
       "<div>\n",
       "<style scoped>\n",
       "    .dataframe tbody tr th:only-of-type {\n",
       "        vertical-align: middle;\n",
       "    }\n",
       "\n",
       "    .dataframe tbody tr th {\n",
       "        vertical-align: top;\n",
       "    }\n",
       "\n",
       "    .dataframe thead th {\n",
       "        text-align: right;\n",
       "    }\n",
       "</style>\n",
       "<table border=\"1\" class=\"dataframe\">\n",
       "  <thead>\n",
       "    <tr style=\"text-align: right;\">\n",
       "      <th></th>\n",
       "      <th>jaccard</th>\n",
       "      <th>precision</th>\n",
       "      <th>recall</th>\n",
       "      <th>dice</th>\n",
       "      <th>ct</th>\n",
       "    </tr>\n",
       "  </thead>\n",
       "  <tbody>\n",
       "    <tr>\n",
       "      <th>0</th>\n",
       "      <td>1.000000</td>\n",
       "      <td>1.000000</td>\n",
       "      <td>1.000000</td>\n",
       "      <td>NaN</td>\n",
       "      <td>&lt;Compressed Sparse Row sparse matrix of dtype ...</td>\n",
       "    </tr>\n",
       "    <tr>\n",
       "      <th>1</th>\n",
       "      <td>1.000000</td>\n",
       "      <td>1.000000</td>\n",
       "      <td>1.000000</td>\n",
       "      <td>NaN</td>\n",
       "      <td>&lt;Compressed Sparse Row sparse matrix of dtype ...</td>\n",
       "    </tr>\n",
       "    <tr>\n",
       "      <th>2</th>\n",
       "      <td>0.497130</td>\n",
       "      <td>0.497130</td>\n",
       "      <td>0.500000</td>\n",
       "      <td>0.000000</td>\n",
       "      <td>&lt;Compressed Sparse Row sparse matrix of dtype ...</td>\n",
       "    </tr>\n",
       "    <tr>\n",
       "      <th>3</th>\n",
       "      <td>0.585687</td>\n",
       "      <td>0.607853</td>\n",
       "      <td>0.977834</td>\n",
       "      <td>0.354866</td>\n",
       "      <td>&lt;Compressed Sparse Row sparse matrix of dtype ...</td>\n",
       "    </tr>\n",
       "    <tr>\n",
       "      <th>4</th>\n",
       "      <td>0.629381</td>\n",
       "      <td>0.648449</td>\n",
       "      <td>0.980933</td>\n",
       "      <td>0.457858</td>\n",
       "      <td>&lt;Compressed Sparse Row sparse matrix of dtype ...</td>\n",
       "    </tr>\n",
       "    <tr>\n",
       "      <th>...</th>\n",
       "      <td>...</td>\n",
       "      <td>...</td>\n",
       "      <td>...</td>\n",
       "      <td>...</td>\n",
       "      <td>...</td>\n",
       "    </tr>\n",
       "    <tr>\n",
       "      <th>252</th>\n",
       "      <td>0.674828</td>\n",
       "      <td>0.731204</td>\n",
       "      <td>0.941471</td>\n",
       "      <td>0.631864</td>\n",
       "      <td>&lt;Compressed Sparse Row sparse matrix of dtype ...</td>\n",
       "    </tr>\n",
       "    <tr>\n",
       "      <th>253</th>\n",
       "      <td>0.662879</td>\n",
       "      <td>0.721029</td>\n",
       "      <td>0.940927</td>\n",
       "      <td>0.612897</td>\n",
       "      <td>&lt;Compressed Sparse Row sparse matrix of dtype ...</td>\n",
       "    </tr>\n",
       "    <tr>\n",
       "      <th>254</th>\n",
       "      <td>0.651682</td>\n",
       "      <td>0.712173</td>\n",
       "      <td>0.938831</td>\n",
       "      <td>0.595721</td>\n",
       "      <td>&lt;Compressed Sparse Row sparse matrix of dtype ...</td>\n",
       "    </tr>\n",
       "    <tr>\n",
       "      <th>255</th>\n",
       "      <td>0.640347</td>\n",
       "      <td>0.701238</td>\n",
       "      <td>0.939003</td>\n",
       "      <td>0.573933</td>\n",
       "      <td>&lt;Compressed Sparse Row sparse matrix of dtype ...</td>\n",
       "    </tr>\n",
       "    <tr>\n",
       "      <th>256</th>\n",
       "      <td>0.629500</td>\n",
       "      <td>0.690872</td>\n",
       "      <td>0.938628</td>\n",
       "      <td>0.552554</td>\n",
       "      <td>&lt;Compressed Sparse Row sparse matrix of dtype ...</td>\n",
       "    </tr>\n",
       "  </tbody>\n",
       "</table>\n",
       "<p>257 rows × 5 columns</p>\n",
       "</div>"
      ],
      "text/plain": [
       "      jaccard  precision    recall      dice  \\\n",
       "0    1.000000   1.000000  1.000000       NaN   \n",
       "1    1.000000   1.000000  1.000000       NaN   \n",
       "2    0.497130   0.497130  0.500000  0.000000   \n",
       "3    0.585687   0.607853  0.977834  0.354866   \n",
       "4    0.629381   0.648449  0.980933  0.457858   \n",
       "..        ...        ...       ...       ...   \n",
       "252  0.674828   0.731204  0.941471  0.631864   \n",
       "253  0.662879   0.721029  0.940927  0.612897   \n",
       "254  0.651682   0.712173  0.938831  0.595721   \n",
       "255  0.640347   0.701238  0.939003  0.573933   \n",
       "256  0.629500   0.690872  0.938628  0.552554   \n",
       "\n",
       "                                                    ct  \n",
       "0    <Compressed Sparse Row sparse matrix of dtype ...  \n",
       "1    <Compressed Sparse Row sparse matrix of dtype ...  \n",
       "2    <Compressed Sparse Row sparse matrix of dtype ...  \n",
       "3    <Compressed Sparse Row sparse matrix of dtype ...  \n",
       "4    <Compressed Sparse Row sparse matrix of dtype ...  \n",
       "..                                                 ...  \n",
       "252  <Compressed Sparse Row sparse matrix of dtype ...  \n",
       "253  <Compressed Sparse Row sparse matrix of dtype ...  \n",
       "254  <Compressed Sparse Row sparse matrix of dtype ...  \n",
       "255  <Compressed Sparse Row sparse matrix of dtype ...  \n",
       "256  <Compressed Sparse Row sparse matrix of dtype ...  \n",
       "\n",
       "[257 rows x 5 columns]"
      ]
     },
     "execution_count": 116,
     "metadata": {},
     "output_type": "execute_result"
    }
   ],
   "source": [
    "# Initialize metrics dictionary\n",
    "metrics = {\n",
    "    \"jaccard\": [],\n",
    "    \"precision\": [],\n",
    "    \"recall\": [],\n",
    "    \"dice\": [],\n",
    "    \"ct\": [],\n",
    "}\n",
    "\n",
    "# Iterate over predictions and ground truth\n",
    "for pred, gt in zip(predictions, ground_truth):\n",
    "    # Flatten arrays for computation\n",
    "    pred_flat = pred.flatten() > 0\n",
    "    gt_flat = gt.flatten() > 0\n",
    "\n",
    "    # Compute metrics\n",
    "    metrics[\"ct\"].append(contingency_table(gt, pred))\n",
    "    metrics[\"jaccard\"].append(jaccard_score(gt_flat, pred_flat, average=\"macro\"))\n",
    "    metrics[\"precision\"].append(precision_score(gt_flat, pred_flat, average=\"macro\"))\n",
    "    metrics[\"recall\"].append(recall_score(gt_flat, pred_flat, average=\"macro\"))\n",
    "    metrics[\"dice\"].append(1 - dice(gt_flat, pred_flat))\n",
    "\n",
    "# Convert metrics to a DataFrame\n",
    "metrics_df = pandas.DataFrame(metrics)\n",
    "\n",
    "# Display the metrics DataFrame\n",
    "metrics_df"
   ]
  },
  {
   "cell_type": "markdown",
   "id": "55a6f603",
   "metadata": {},
   "source": [
    "### 4.1 Metrics visualization"
   ]
  },
  {
   "cell_type": "code",
   "execution_count": 117,
   "id": "33401b0f",
   "metadata": {},
   "outputs": [
    {
     "data": {
      "image/png": "[encoded data removed]",
      "text/plain": [
       "<Figure size 1000x600 with 1 Axes>"
      ]
     },
     "metadata": {},
     "output_type": "display_data"
    }
   ],
   "source": [
    "# Calculate average metrics\n",
    "metrics_avg = metrics_df.drop(columns=[\"ct\"]).mean()\n",
    "\n",
    "# Plot\n",
    "metrics_avg.plot.bar(\n",
    "    figsize=(10, 6),\n",
    "    color='skyblue',\n",
    "    edgecolor='black',\n",
    "    legend=False\n",
    ")\n",
    "\n",
    "plt.title(\"Average Metrics\", fontsize=16, fontweight='bold')\n",
    "plt.ylabel(\"Value\", fontsize=12)\n",
    "plt.xlabel(\"Metrics\", fontsize=12)\n",
    "plt.xticks(rotation=45, fontsize=10)\n",
    "plt.ylim(0, 1)\n",
    "plt.grid(axis='y', linestyle='--', alpha=0.7)\n",
    "plt.tight_layout()\n",
    "plt.show()"
   ]
  },
  {
   "cell_type": "code",
   "execution_count": 118,
   "id": "8aa970c7",
   "metadata": {},
   "outputs": [
    {
     "data": {
      "image/png": "[encoded data removed]",
      "text/plain": [
       "<Figure size 1200x800 with 4 Axes>"
      ]
     },
     "metadata": {},
     "output_type": "display_data"
    }
   ],
   "source": [
    "axes = metrics_df.hist(\n",
    "    figsize=(12, 8), \n",
    "    bins=20, \n",
    "    color='skyblue', \n",
    "    edgecolor='black', \n",
    "    grid=False\n",
    ")\n",
    "\n",
    "# Set x-axis limits for all graphs\n",
    "for ax in axes.flatten():\n",
    "    ax.set_xlim(0, 1)\n",
    "\n",
    "plt.suptitle(\"Distribution of Metrics\", fontsize=16, fontweight='bold')\n",
    "plt.tight_layout(rect=[0, 0, 1, 0.96])\n",
    "plt.show()"
   ]
  },
  {
   "cell_type": "code",
   "execution_count": null,
   "id": "c9e0d64e",
   "metadata": {},
   "outputs": [],
   "source": []
  }
 ],
 "metadata": {
  "kernelspec": {
   "display_name": ".venv",
   "language": "python",
   "name": "python3"
  },
  "language_info": {
   "codemirror_mode": {
    "name": "ipython",
    "version": 3
   },
   "file_extension": ".py",
   "mimetype": "text/x-python",
   "name": "python",
   "nbconvert_exporter": "python",
   "pygments_lexer": "ipython3",
   "version": "3.12.3"
  }
 },
 "nbformat": 4,
 "nbformat_minor": 5
}
