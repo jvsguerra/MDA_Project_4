{
 "cells": [
  {
   "cell_type": "markdown",
   "id": "065bfdaa-5466-47e5-b13b-ecc0fcdf9dba",
   "metadata": {},
   "source": [
    "# Project 4\n",
    "\n",
    "This project applies programming skills acquired during the course to re-analyze microscopy data using Cellpose, comparing its segmentation results with those from the Nessys algorithm.\n",
    "\n",
    "The authors of the PLOS Biology paper, \"Nessys: A new set of tools for the automated detection of nuclei within intact tissues and dense 3D cultures\" (Blin et al., 2019) introduced a novel nuclear segmentation method. Their images were processed using Nessys, an extensible Java-based automated cell nuclei identification software. The images and analytical results are available in the Image Data Resource (IDR):\n",
    "- <https://doi.org/10.1371/journal.pbio.3000388>\n",
    "- <https://idr.openmicroscopy.org/webclient/?show=project-801>\n",
    "\n",
    "The IDR team has also converted the dataset into OME-Zarr format. Unlike Nessys, Cellpose was not used in the original study. "
   ]
  },
  {
   "cell_type": "markdown",
   "id": "ca575ae8",
   "metadata": {},
   "source": [
    "## Local TIFF files\n",
    "\n",
    "The dataset is available in the IDR, but first, we are going to download the B4_C3.tif file from the IDR and save it locally. We will then use Cellpose to segment the nuclei in the image and compare the results with those obtained using Nessys."
   ]
  },
  {
   "cell_type": "markdown",
   "id": "ec4116f3",
   "metadata": {},
   "source": [
    "### 1. Install dependencies from [PyPI](https://pypi.org/)"
   ]
  },
  {
   "cell_type": "code",
   "execution_count": null,
   "id": "9d9aa1ad",
   "metadata": {},
   "outputs": [],
   "source": [
    "# Install dependencies\n",
    "!pip install -r requirements.txt"
   ]
  },
  {
   "cell_type": "code",
   "execution_count": 2,
   "id": "d09b102b",
   "metadata": {},
   "outputs": [],
   "source": [
    "# Import libraries\n",
    "import bioio\n",
    "import cellpose\n",
    "import cellpose.models\n",
    "import dask\n",
    "from ipywidgets import *\n",
    "import matplotlib.pyplot as plt\n",
    "import numpy"
   ]
  },
  {
   "cell_type": "markdown",
   "id": "590961ae",
   "metadata": {},
   "source": [
    "### 2. Download C3_B4.tif from IDR\n",
    "\n",
    "Using the filepath, it is possible to download locally the image by running from a terminal:\n",
    "\n",
    "```bash\n",
    "wget https://ftp.ebi.ac.uk/pub/databases/IDR/idr0062-blin-nuclearsegmentation/20190429-ftp/Blastocysts/B4_C3.tif\n",
    "```\n",
    "\n",
    "or, alternatively, by using the Python `ftputil` library:"
   ]
  },
  {
   "cell_type": "code",
   "execution_count": 3,
   "id": "17e99917",
   "metadata": {},
   "outputs": [],
   "source": [
    "import ftputil\n",
    "import os\n",
    "\n",
    "files = [\n",
    "    \"pub/databases/IDR/idr0062-blin-nuclearsegmentation/20190429-ftp/Blastocysts/B4_C3.tif\",\n",
    "    \"pub/databases/IDR/idr0062-blin-nuclearsegmentation/20190429-ftp/Blastocysts/B4_C3_Manual.tif\",\n",
    "]\n",
    "\n",
    "with ftputil.FTPHost(\"ftp.ebi.ac.uk\", \"anonymous\") as host:\n",
    "    names = host.listdir(host.curdir)\n",
    "    for name in names:\n",
    "        if name == \"pub\":  # only check the IDR data\n",
    "            for file in files:\n",
    "                filepath = os.path.join(\"data\", os.path.basename(file))\n",
    "                if host.path.isfile(file):\n",
    "                    host.download(file, filepath)"
   ]
  },
  {
   "cell_type": "markdown",
   "id": "0e311b0c",
   "metadata": {},
   "source": [
    "### 3. Try to open in BioIO\n",
    "\n",
    "The `bioio` package requires `bioio-tifffile` plugin to be able to load the image as downloaded."
   ]
  },
  {
   "cell_type": "code",
   "execution_count": 4,
   "id": "79395629",
   "metadata": {},
   "outputs": [],
   "source": [
    "filepath = os.path.join(\"data\", \"B4_C3.tif\")\n",
    "labelspath = os.path.join(\"data\", \"B4_C3_Manual.tif\")"
   ]
  },
  {
   "cell_type": "code",
   "execution_count": null,
   "id": "e2dcca70",
   "metadata": {},
   "outputs": [],
   "source": [
    "# Load the image\n",
    "images = bioio.BioImage(filepath)\n",
    "\n",
    "# Load the label\n",
    "labels = bioio.BioImage(labelspath)\n",
    "\n",
    "# (T, C, Z, Y, X)\n",
    "print(images.dims)\n",
    "print(images.shape)"
   ]
  },
  {
   "cell_type": "code",
   "execution_count": null,
   "id": "a9a35c31",
   "metadata": {},
   "outputs": [],
   "source": [
    "def update(z=0, c=0):\n",
    "    fig = plt.figure(figsize=(10, 10))\n",
    "    plt.imshow(images.data[0, c, z, :, :])\n",
    "    plt.tight_layout()\n",
    "    fig.canvas.flush_events()\n",
    "\n",
    "\n",
    "interact(\n",
    "    update,\n",
    "    z=widgets.IntSlider(\n",
    "        value=0,\n",
    "        min=0,\n",
    "        max=images.data.shape[2] - 1,\n",
    "        step=1,\n",
    "        description=\"Select T\",\n",
    "        continuous_update=False,\n",
    "    ),\n",
    "    c=widgets.IntSlider(\n",
    "        value=0,\n",
    "        min=0,\n",
    "        max=images.data.shape[1] - 1,\n",
    "        step=1,\n",
    "        description=\"Select C\",\n",
    "        continuous_update=False,\n",
    "    ),\n",
    ")"
   ]
  },
  {
   "cell_type": "markdown",
   "id": "0d5b5fd4",
   "metadata": {},
   "source": [
    "### 4. Select two Z-planes around the middle of the stack"
   ]
  },
  {
   "cell_type": "code",
   "execution_count": null,
   "id": "c77034a1",
   "metadata": {},
   "outputs": [],
   "source": [
    "# Define the Z-planes to select\n",
    "Z = [89, 90, 91]\n",
    "\n",
    "# Select two Z-planes (indices 89 and 90) and stack them along a new axis\n",
    "selected_images = numpy.stack([images.data[0, :, z, :, :] for z in Z], axis=1)\n",
    "\n",
    "print(f\"BioIO shape: {images.data.shape}\")\n",
    "print(f\"Selected images shape: {selected_images.shape}\")\n"
   ]
  },
  {
   "cell_type": "markdown",
   "id": "1a612c31",
   "metadata": {},
   "source": [
    "### 5. Process the selected planes using Cellpose API with the default cyto model"
   ]
  },
  {
   "cell_type": "code",
   "execution_count": 8,
   "id": "3a42b8cd",
   "metadata": {},
   "outputs": [],
   "source": [
    "# Convert the NumPy image data to a Dask array\n",
    "dask_img = dask.array.from_array(\n",
    "    selected_images,\n",
    "    chunks=(\n",
    "        selected_images.shape[0],\n",
    "        1,\n",
    "        selected_images.shape[2],\n",
    "        selected_images.shape[3],\n",
    "    ),\n",
    ")\n",
    "\n",
    "# Load the Cellpose model: cyto\n",
    "model = cellpose.models.Cellpose(model_type=\"cyto\", gpu=True)\n",
    "\n",
    "# Delayed function for segmentation\n",
    "@dask.delayed\n",
    "def segment(image):\n",
    "    # im_cyto_pre = gaussian(im_cytoplasm, sigma=0.5)\n",
    "    # im_cyto_pre = rescale_intensity(im_cyto_pre,out_range=(0,1))\n",
    "    # im_nuclei_pre = gaussian(im_nuclei, sigma=1)\n",
    "    # im_nuclei_pre = rescale_intensity(im_nuclei_pre,out_range=(0,1))\n",
    "    masks, _, _, _ = model.eval(image, diameter=50, min_size=10, channels=[0, 1])\n",
    "    return masks"
   ]
  },
  {
   "cell_type": "code",
   "execution_count": null,
   "id": "c02b16c2",
   "metadata": {},
   "outputs": [],
   "source": [
    "%%time\n",
    "# Perform segmentation with Dask\n",
    "results = dask.compute(*[segment(dask_img[:,z,:,:]) for z in range(dask_img.shape[1])])"
   ]
  },
  {
   "cell_type": "markdown",
   "id": "49cac1d3",
   "metadata": {},
   "source": [
    "### 6. Display the segmentation results\n",
    "\n",
    "We will use matplotlib to display the segmentation results. The output will show the Cellpose segmentation alongside the Nessys ground truth labels for comparison."
   ]
  },
  {
   "cell_type": "code",
   "execution_count": null,
   "id": "4b33e21b",
   "metadata": {},
   "outputs": [],
   "source": [
    "def update(z=0):\n",
    "    fig = plt.figure(figsize=(10, 10))\n",
    "    fig, ax = plt.subplots(1, 3, figsize=(10, 5))\n",
    "\n",
    "    # Original Image\n",
    "    ax[0].imshow(dask_img[0][z], cmap=\"Blues\")\n",
    "    ax[0].imshow(dask_img[1][z], cmap=\"Reds\")\n",
    "    ax[0].set_title(f\"Original - {Z[z] + 1}\")\n",
    "    ax[0].axis(\"off\")\n",
    "    \n",
    "    # Segmented Image (Overlay)\n",
    "    ax[1].imshow(dask_img[0][z], cmap=\"gray\")\n",
    "    ax[1].imshow(results[z], alpha=0.5, cmap=\"jet\")\n",
    "    ax[1].set_title(f\"Segmentation - {Z[z] + 1}\")\n",
    "    ax[1].axis(\"off\")\n",
    "    \n",
    "    # Labels Image\n",
    "    ax[2].imshow(labels.data[0, 0, Z[z], :, :], cmap=\"jet\")\n",
    "    ax[2].set_title(f\"Nessys' labels - {Z[z] + 1}\")\n",
    "    ax[2].axis(\"off\")\n",
    "\n",
    "    plt.tight_layout()\n",
    "    fig.canvas.flush_events()\n",
    "\n",
    "interact(\n",
    "    update,\n",
    "    z=widgets.IntSlider(\n",
    "        value=0,\n",
    "        min=0,\n",
    "        max=len(results) - 1,\n",
    "        step=1,\n",
    "        description=\"Select T\",\n",
    "        continuous_update=False,\n",
    "    ),\n",
    ")"
   ]
  },
  {
   "cell_type": "markdown",
   "id": "d7b3474a",
   "metadata": {},
   "source": [
    "## OME-Zarr files\n",
    "\n",
    "In this step, we will use the OME-Zarr format to analyze [6001247.zarr](https://uk1s3.embassy.ebi.ac.uk/idr/zarr/v0.1/6001247.zarr/0/) file. We will load the image using Dask and Cellpose and compare the results with the original Nessys segmentation."
   ]
  },
  {
   "cell_type": "markdown",
   "id": "220495a7",
   "metadata": {},
   "source": [
    "### 1. Load 6001247.zarr file instead of TIFF"
   ]
  },
  {
   "cell_type": "code",
   "execution_count": 11,
   "id": "752643e2",
   "metadata": {},
   "outputs": [],
   "source": [
    "# Image information\n",
    "IMAGE_ID = 6001247\n",
    "ENPOINT_URL = 'https://uk1s3.embassy.ebi.ac.uk/'"
   ]
  },
  {
   "cell_type": "code",
   "execution_count": 12,
   "id": "f1ac566a",
   "metadata": {},
   "outputs": [],
   "source": [
    "# Define a function to load binary data from S3\n",
    "def load_binary_from_s3(name, resolution='0'):\n",
    "    root = '%s/%s/' % (name, resolution)\n",
    "    return dask.array.from_zarr(ENPOINT_URL + root)"
   ]
  },
  {
   "cell_type": "code",
   "execution_count": 13,
   "id": "ba0701a4",
   "metadata": {},
   "outputs": [],
   "source": [
    "# Define the name of the Zarr file\n",
    "name = 'idr/zarr/v0.1/%s.zarr' % IMAGE_ID\n",
    "\n",
    "# Load the binary data from S3\n",
    "data = load_binary_from_s3(name, resolution='0')"
   ]
  },
  {
   "cell_type": "code",
   "execution_count": null,
   "id": "8a78ca8a",
   "metadata": {},
   "outputs": [],
   "source": [
    "print(f\"Dask array shape: {data.shape}\")"
   ]
  },
  {
   "cell_type": "markdown",
   "id": "eedc158a",
   "metadata": {},
   "source": [
    "### 2. Read labels from the ome.zarr"
   ]
  },
  {
   "cell_type": "code",
   "execution_count": 15,
   "id": "843c8190",
   "metadata": {},
   "outputs": [],
   "source": [
    "# Define the name of the labels Zarr file\n",
    "name = 'idr/zarr/v0.1/%s.zarr/labels' % IMAGE_ID\n",
    "\n",
    "# Load the binary data from S3\n",
    "labels = load_binary_from_s3(name)"
   ]
  },
  {
   "cell_type": "code",
   "execution_count": null,
   "id": "552bee54",
   "metadata": {},
   "outputs": [],
   "source": [
    "print(f\"Dask array shape: {labels.shape}\")"
   ]
  },
  {
   "cell_type": "markdown",
   "id": "6ea9044d",
   "metadata": {},
   "source": [
    "### 3. Analyze the image using Cellpose"
   ]
  },
  {
   "cell_type": "code",
   "execution_count": null,
   "id": "eae49078",
   "metadata": {},
   "outputs": [],
   "source": [
    "%%time\n",
    "# Perform segmentation with Dask\n",
    "results = dask.compute(*[segment(data[0,:,z,:,:]) for z in range(data.shape[2])])"
   ]
  },
  {
   "cell_type": "code",
   "execution_count": null,
   "id": "dbfd3d96",
   "metadata": {},
   "outputs": [],
   "source": [
    "def update(z=0):\n",
    "    fig = plt.figure(figsize=(10, 10))\n",
    "    fig, ax = plt.subplots(1, 3, figsize=(10, 5))\n",
    "\n",
    "    # Original Image\n",
    "    ax[0].imshow(data[0, 0, z, :, :], cmap=\"Blues\")\n",
    "    ax[0].imshow(data[0, 1, z, :, :], cmap=\"Reds\")\n",
    "    ax[0].set_title(f\"Original (z={z + 1})\")\n",
    "    ax[0].axis(\"off\")\n",
    "    \n",
    "    # Segmented Image (Overlay)\n",
    "    ax[1].imshow(data[0, 0, z, :, :], cmap=\"gray\")\n",
    "    ax[1].imshow(r[z], alpha=0.5, cmap=\"jet\")\n",
    "    ax[1].set_title(f\"Segmentation (z={z + 1})\")\n",
    "    ax[1].axis(\"off\")\n",
    "    \n",
    "    # Labels Image\n",
    "    ax[2].imshow(labels[0, 0, z, :, :], cmap=\"jet\")\n",
    "    ax[2].set_title(f\"Nessys' labels (z={z + 1})\")\n",
    "    ax[2].axis(\"off\")\n",
    "\n",
    "    plt.tight_layout()\n",
    "    fig.canvas.flush_events()\n",
    "\n",
    "interact(\n",
    "    update,\n",
    "    z=widgets.IntSlider(\n",
    "        value=0,\n",
    "        min=0,\n",
    "        max=len(results) - 1,\n",
    "        step=1,\n",
    "        description=\"Select T\",\n",
    "        continuous_update=False,\n",
    "    ),\n",
    ")"
   ]
  },
  {
   "cell_type": "markdown",
   "id": "630789fe",
   "metadata": {},
   "source": [
    "### 4. Compare the labels with the Cellpose segmentation\n",
    "\n",
    "We will compare Cellpose segmentations with Nessys labels using common segmentation metrics:\n",
    "- IoU (Intersection over Union)\n",
    "- Dice Coefficient (F1 Score for Image Segmentation)"
   ]
  },
  {
   "cell_type": "code",
   "execution_count": 19,
   "id": "33401b0f",
   "metadata": {},
   "outputs": [],
   "source": [
    "# from skimage.metrics import adapted_rand_error\n",
    "# from sklearn.metrics import jaccard_score\n",
    "# import numpy as np\n",
    "\n",
    "# def compute_metrics(pred_mask, gt_mask):\n",
    "#     # Flatten the masks for comparison\n",
    "#     pred_flat = pred_mask.ravel()\n",
    "#     gt_flat = gt_mask.ravel()\n",
    "    \n",
    "#     # Compute Jaccard Index (IoU)\n",
    "#     iou = jaccard_score(gt_flat, pred_flat, average='binary')\n",
    "\n",
    "#     # Compute Dice Score\n",
    "#     dice = 2 * np.sum(pred_flat * gt_flat) / (np.sum(pred_flat) + np.sum(gt_flat))\n",
    "\n",
    "#     return iou, dice\n",
    "\n",
    "# # Compute metrics for each plane\n",
    "# metrics = [compute_metrics(masks[i], selected_nessys_labels[i]) for i in range(2)]\n",
    "\n",
    "# # Display results\n",
    "# for i, (iou, dice) in enumerate(metrics):\n",
    "#     print(f\"Z-plane {89 + i}: IoU = {iou:.4f}, Dice Score = {dice:.4f}\")"
   ]
  },
  {
   "cell_type": "code",
   "execution_count": null,
   "id": "8aa970c7",
   "metadata": {},
   "outputs": [],
   "source": []
  },
  {
   "cell_type": "code",
   "execution_count": null,
   "id": "d0db9255",
   "metadata": {},
   "outputs": [],
   "source": []
  },
  {
   "cell_type": "code",
   "execution_count": null,
   "id": "f7e8f943",
   "metadata": {},
   "outputs": [],
   "source": []
  }
 ],
 "metadata": {
  "kernelspec": {
   "display_name": ".venv",
   "language": "python",
   "name": "python3"
  },
  "language_info": {
   "codemirror_mode": {
    "name": "ipython",
    "version": 3
   },
   "file_extension": ".py",
   "mimetype": "text/x-python",
   "name": "python",
   "nbconvert_exporter": "python",
   "pygments_lexer": "ipython3",
   "version": "3.12.3"
  }
 },
 "nbformat": 4,
 "nbformat_minor": 5
}
