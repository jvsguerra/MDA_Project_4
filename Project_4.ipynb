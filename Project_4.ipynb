{
 "cells": [
  {
   "cell_type": "markdown",
   "id": "065bfdaa-5466-47e5-b13b-ecc0fcdf9dba",
   "metadata": {},
   "source": [
    "# Project 4\n",
    "\n",
    "This project applies programming skills acquired during the course to re-analyze microscopy data using Cellpose, comparing its segmentation results with those from the Nessys algorithm.\n",
    "\n",
    "The authors of the PLOS Biology paper, \"Nessys: A new set of tools for the automated detection of nuclei within intact tissues and dense 3D cultures\" (Blin et al., 2019) introduced a novel nuclear segmentation method. Their images were processed using Nessys, an extensible Java-based automated cell nuclei identification software. The images and analytical results are available in the Image Data Resource (IDR):\n",
    "- <https://doi.org/10.1371/journal.pbio.3000388>\n",
    "- <https://idr.openmicroscopy.org/webclient/?show=project-801>\n",
    "\n",
    "The IDR team has also converted the dataset into OME-Zarr format. Unlike Nessys, Cellpose was not used in the original study. "
   ]
  },
  {
   "cell_type": "markdown",
   "id": "ca575ae8",
   "metadata": {},
   "source": [
    "## Local TIFF files\n",
    "\n",
    "The dataset is available in the IDR, but first, we are going to download the B4_C3.tif file from the IDR and save it locally. We will then use Cellpose to segment the nuclei in the image and compare the results with those obtained using Nessys."
   ]
  },
  {
   "cell_type": "markdown",
   "id": "ec4116f3",
   "metadata": {},
   "source": [
    "### 1. Load libraries"
   ]
  },
  {
   "cell_type": "code",
   "execution_count": 1,
   "id": "d09b102b",
   "metadata": {},
   "outputs": [],
   "source": [
    "# Import libraries\n",
    "import bioio\n",
    "import cellpose\n",
    "import cellpose.models\n",
    "import dask\n",
    "from ipywidgets import *\n",
    "import matplotlib.pyplot as plt\n",
    "import numpy\n",
    "import pandas\n",
    "from scipy.spatial.distance import dice\n",
    "from scipy.stats import pearsonr\n",
    "from skimage.metrics import contingency_table\n",
    "from skimage.filters import gaussian\n",
    "from sklearn.metrics import jaccard_score, precision_score, recall_score, r2_score"
   ]
  },
  {
   "cell_type": "markdown",
   "id": "590961ae",
   "metadata": {},
   "source": [
    "### 2. Download C3_B4.tif from IDR\n",
    "\n",
    "Using the filepath, it is possible to download locally the image by running from a terminal:\n",
    "\n",
    "```bash\n",
    "wget https://ftp.ebi.ac.uk/pub/databases/IDR/idr0062-blin-nuclearsegmentation/20190429-ftp/Blastocysts/B4_C3.tif\n",
    "```\n",
    "\n",
    "or, alternatively, by using the Python `ftputil` library:"
   ]
  },
  {
   "cell_type": "code",
   "execution_count": 2,
   "id": "17e99917",
   "metadata": {},
   "outputs": [],
   "source": [
    "import ftputil\n",
    "import os\n",
    "\n",
    "files = [\n",
    "    \"pub/databases/IDR/idr0062-blin-nuclearsegmentation/20190429-ftp/Blastocysts/B4_C3.tif\",\n",
    "    \"pub/databases/IDR/idr0062-blin-nuclearsegmentation/20190429-ftp/Blastocysts/B4_C3_Manual.tif\",\n",
    "]\n",
    "\n",
    "with ftputil.FTPHost(\"ftp.ebi.ac.uk\", \"anonymous\") as host:\n",
    "    names = host.listdir(host.curdir)\n",
    "    for name in names:\n",
    "        if name == \"pub\":  # only check the IDR data\n",
    "            for file in files:\n",
    "                filepath = os.path.join(\"data\", os.path.basename(file))\n",
    "                if host.path.isfile(file):\n",
    "                    host.download(file, filepath)"
   ]
  },
  {
   "cell_type": "markdown",
   "id": "0e311b0c",
   "metadata": {},
   "source": [
    "### 3. Try to open in BioIO\n",
    "\n",
    "The `bioio` package requires `bioio-tifffile` plugin to be able to load the image as downloaded."
   ]
  },
  {
   "cell_type": "code",
   "execution_count": 3,
   "id": "79395629",
   "metadata": {},
   "outputs": [],
   "source": [
    "filepath = os.path.join(\"data\", \"B4_C3.tif\")\n",
    "labelspath = os.path.join(\"data\", \"B4_C3_Manual.tif\")"
   ]
  },
  {
   "cell_type": "code",
   "execution_count": 4,
   "id": "e2dcca70",
   "metadata": {},
   "outputs": [
    {
     "name": "stdout",
     "output_type": "stream",
     "text": [
      "<Dimensions [T: 1, C: 2, Z: 257, Y: 210, X: 253]>\n",
      "(1, 2, 257, 210, 253)\n"
     ]
    }
   ],
   "source": [
    "# Load the image\n",
    "images = bioio.BioImage(filepath)\n",
    "\n",
    "# Load the label\n",
    "_labels = bioio.BioImage(labelspath)\n",
    "\n",
    "# (T, C, Z, Y, X)\n",
    "print(images.dims)\n",
    "print(images.shape)"
   ]
  },
  {
   "cell_type": "code",
   "execution_count": 5,
   "id": "a9a35c31",
   "metadata": {},
   "outputs": [
    {
     "data": {
      "application/vnd.jupyter.widget-view+json": {
       "model_id": "5aba373827a9414f88bb6638d77d3254",
       "version_major": 2,
       "version_minor": 0
      },
      "text/plain": [
       "interactive(children=(IntSlider(value=0, continuous_update=False, description='Select T', max=256), IntSlider(…"
      ]
     },
     "metadata": {},
     "output_type": "display_data"
    },
    {
     "data": {
      "text/plain": [
       "<function __main__.update(z=0, c=0)>"
      ]
     },
     "execution_count": 5,
     "metadata": {},
     "output_type": "execute_result"
    }
   ],
   "source": [
    "def update(z=0, c=0):\n",
    "    fig = plt.figure(figsize=(10, 10))\n",
    "    plt.imshow(images.data[0, c, z, :, :])\n",
    "    plt.tight_layout()\n",
    "    fig.canvas.flush_events()\n",
    "\n",
    "\n",
    "interact(\n",
    "    update,\n",
    "    z=widgets.IntSlider(\n",
    "        value=0,\n",
    "        min=0,\n",
    "        max=images.data.shape[2] - 1,\n",
    "        step=1,\n",
    "        description=\"Select T\",\n",
    "        continuous_update=False,\n",
    "    ),\n",
    "    c=widgets.IntSlider(\n",
    "        value=0,\n",
    "        min=0,\n",
    "        max=images.data.shape[1] - 1,\n",
    "        step=1,\n",
    "        description=\"Select C\",\n",
    "        continuous_update=False,\n",
    "    ),\n",
    ")"
   ]
  },
  {
   "cell_type": "markdown",
   "id": "0d5b5fd4",
   "metadata": {},
   "source": [
    "### 4. Select two Z-planes around the middle of the stack"
   ]
  },
  {
   "cell_type": "code",
   "execution_count": 6,
   "id": "c77034a1",
   "metadata": {},
   "outputs": [
    {
     "name": "stdout",
     "output_type": "stream",
     "text": [
      "BioIO shape: (1, 2, 257, 210, 253)\n",
      "Selected images shape: (2, 3, 210, 253)\n"
     ]
    }
   ],
   "source": [
    "# Define the Z-planes to select\n",
    "Z = [89, 90, 91]\n",
    "\n",
    "# Select two Z-planes (indices 89 and 90) and stack them along a new axis\n",
    "selected_images = numpy.stack([images.data[0, :, z, :, :] for z in Z], axis=1)\n",
    "\n",
    "print(f\"BioIO shape: {images.data.shape}\")\n",
    "print(f\"Selected images shape: {selected_images.shape}\")\n"
   ]
  },
  {
   "cell_type": "markdown",
   "id": "1a612c31",
   "metadata": {},
   "source": [
    "### 5. Process the selected planes using Cellpose API with the default cyto model"
   ]
  },
  {
   "cell_type": "code",
   "execution_count": 7,
   "id": "a97b908d",
   "metadata": {},
   "outputs": [
    {
     "data": {
      "text/html": [
       "<table>\n",
       "    <tr>\n",
       "        <td>\n",
       "            <table style=\"border-collapse: collapse;\">\n",
       "                <thead>\n",
       "                    <tr>\n",
       "                        <td> </td>\n",
       "                        <th> Array </th>\n",
       "                        <th> Chunk </th>\n",
       "                    </tr>\n",
       "                </thead>\n",
       "                <tbody>\n",
       "                    \n",
       "                    <tr>\n",
       "                        <th> Bytes </th>\n",
       "                        <td> 622.62 kiB </td>\n",
       "                        <td> 207.54 kiB </td>\n",
       "                    </tr>\n",
       "                    \n",
       "                    <tr>\n",
       "                        <th> Shape </th>\n",
       "                        <td> (2, 3, 210, 253) </td>\n",
       "                        <td> (2, 1, 210, 253) </td>\n",
       "                    </tr>\n",
       "                    <tr>\n",
       "                        <th> Dask graph </th>\n",
       "                        <td colspan=\"2\"> 3 chunks in 1 graph layer </td>\n",
       "                    </tr>\n",
       "                    <tr>\n",
       "                        <th> Data type </th>\n",
       "                        <td colspan=\"2\"> uint16 numpy.ndarray </td>\n",
       "                    </tr>\n",
       "                </tbody>\n",
       "            </table>\n",
       "        </td>\n",
       "        <td>\n",
       "        <svg width=\"375\" height=\"165\" style=\"stroke:rgb(0,0,0);stroke-width:1\" >\n",
       "\n",
       "  <!-- Horizontal lines -->\n",
       "  <line x1=\"0\" y1=\"0\" x2=\"25\" y2=\"0\" style=\"stroke-width:2\" />\n",
       "  <line x1=\"0\" y1=\"25\" x2=\"25\" y2=\"25\" style=\"stroke-width:2\" />\n",
       "\n",
       "  <!-- Vertical lines -->\n",
       "  <line x1=\"0\" y1=\"0\" x2=\"0\" y2=\"25\" style=\"stroke-width:2\" />\n",
       "  <line x1=\"25\" y1=\"0\" x2=\"25\" y2=\"25\" style=\"stroke-width:2\" />\n",
       "\n",
       "  <!-- Colored Rectangle -->\n",
       "  <polygon points=\"0.0,0.0 25.412616514582485,0.0 25.412616514582485,25.412616514582485 0.0,25.412616514582485\" style=\"fill:#ECB172A0;stroke-width:0\"/>\n",
       "\n",
       "  <!-- Text -->\n",
       "  <text x=\"12.706308\" y=\"45.412617\" font-size=\"1.0rem\" font-weight=\"100\" text-anchor=\"middle\" >2</text>\n",
       "  <text x=\"45.412617\" y=\"12.706308\" font-size=\"1.0rem\" font-weight=\"100\" text-anchor=\"middle\" transform=\"rotate(0,45.412617,12.706308)\">1</text>\n",
       "\n",
       "\n",
       "  <!-- Horizontal lines -->\n",
       "  <line x1=\"95\" y1=\"0\" x2=\"110\" y2=\"15\" style=\"stroke-width:2\" />\n",
       "  <line x1=\"95\" y1=\"99\" x2=\"110\" y2=\"115\" style=\"stroke-width:2\" />\n",
       "\n",
       "  <!-- Vertical lines -->\n",
       "  <line x1=\"95\" y1=\"0\" x2=\"95\" y2=\"99\" style=\"stroke-width:2\" />\n",
       "  <line x1=\"100\" y1=\"5\" x2=\"100\" y2=\"104\" />\n",
       "  <line x1=\"105\" y1=\"10\" x2=\"105\" y2=\"109\" />\n",
       "  <line x1=\"110\" y1=\"15\" x2=\"110\" y2=\"115\" style=\"stroke-width:2\" />\n",
       "\n",
       "  <!-- Colored Rectangle -->\n",
       "  <polygon points=\"95.0,0.0 110.43938822155313,15.439388221553125 110.43938822155313,115.0441313045571 95.0,99.60474308300397\" style=\"fill:#ECB172A0;stroke-width:0\"/>\n",
       "\n",
       "  <!-- Horizontal lines -->\n",
       "  <line x1=\"95\" y1=\"0\" x2=\"215\" y2=\"0\" style=\"stroke-width:2\" />\n",
       "  <line x1=\"100\" y1=\"5\" x2=\"220\" y2=\"5\" />\n",
       "  <line x1=\"105\" y1=\"10\" x2=\"225\" y2=\"10\" />\n",
       "  <line x1=\"110\" y1=\"15\" x2=\"230\" y2=\"15\" style=\"stroke-width:2\" />\n",
       "\n",
       "  <!-- Vertical lines -->\n",
       "  <line x1=\"95\" y1=\"0\" x2=\"110\" y2=\"15\" style=\"stroke-width:2\" />\n",
       "  <line x1=\"215\" y1=\"0\" x2=\"230\" y2=\"15\" style=\"stroke-width:2\" />\n",
       "\n",
       "  <!-- Colored Rectangle -->\n",
       "  <polygon points=\"95.0,0.0 215.0,0.0 230.43938822155312,15.439388221553125 110.43938822155313,15.439388221553125\" style=\"fill:#ECB172A0;stroke-width:0\"/>\n",
       "\n",
       "  <!-- Horizontal lines -->\n",
       "  <line x1=\"110\" y1=\"15\" x2=\"230\" y2=\"15\" style=\"stroke-width:2\" />\n",
       "  <line x1=\"110\" y1=\"115\" x2=\"230\" y2=\"115\" style=\"stroke-width:2\" />\n",
       "\n",
       "  <!-- Vertical lines -->\n",
       "  <line x1=\"110\" y1=\"15\" x2=\"110\" y2=\"115\" style=\"stroke-width:2\" />\n",
       "  <line x1=\"230\" y1=\"15\" x2=\"230\" y2=\"115\" style=\"stroke-width:2\" />\n",
       "\n",
       "  <!-- Colored Rectangle -->\n",
       "  <polygon points=\"110.43938822155313,15.439388221553125 230.43938822155314,15.439388221553125 230.43938822155314,115.0441313045571 110.43938822155313,115.0441313045571\" style=\"fill:#ECB172A0;stroke-width:0\"/>\n",
       "\n",
       "  <!-- Text -->\n",
       "  <text x=\"170.439388\" y=\"135.044131\" font-size=\"1.0rem\" font-weight=\"100\" text-anchor=\"middle\" >253</text>\n",
       "  <text x=\"250.439388\" y=\"65.241760\" font-size=\"1.0rem\" font-weight=\"100\" text-anchor=\"middle\" transform=\"rotate(-90,250.439388,65.241760)\">210</text>\n",
       "  <text x=\"92.719694\" y=\"127.324437\" font-size=\"1.0rem\" font-weight=\"100\" text-anchor=\"middle\" transform=\"rotate(45,92.719694,127.324437)\">3</text>\n",
       "</svg>\n",
       "        </td>\n",
       "    </tr>\n",
       "</table>"
      ],
      "text/plain": [
       "dask.array<array, shape=(2, 3, 210, 253), dtype=uint16, chunksize=(2, 1, 210, 253), chunktype=numpy.ndarray>"
      ]
     },
     "execution_count": 7,
     "metadata": {},
     "output_type": "execute_result"
    }
   ],
   "source": [
    "# Convert the NumPy image data to a Dask array\n",
    "dask_img = dask.array.from_array(\n",
    "    selected_images,\n",
    "    chunks=(\n",
    "        selected_images.shape[0],\n",
    "        1,\n",
    "        selected_images.shape[2],\n",
    "        selected_images.shape[3],\n",
    "    ),\n",
    ")\n",
    "\n",
    "dask_img"
   ]
  },
  {
   "cell_type": "code",
   "execution_count": 8,
   "id": "3a42b8cd",
   "metadata": {},
   "outputs": [],
   "source": [
    "# Load the Cellpose model: cyto\n",
    "model = cellpose.models.Cellpose(model_type=\"cyto3\", gpu=True)\n",
    "\n",
    "@dask.delayed\n",
    "def segment(image):\n",
    "    image = gaussian(image, sigma=0.5)\n",
    "    masks, _, _, _ = model.eval(image, diameter=50, min_size=10, channels=[0,1])\n",
    "    return masks"
   ]
  },
  {
   "cell_type": "code",
   "execution_count": 9,
   "id": "c02b16c2",
   "metadata": {},
   "outputs": [
    {
     "name": "stdout",
     "output_type": "stream",
     "text": [
      "CPU times: user 4.45 s, sys: 1.24 s, total: 5.7 s\n",
      "Wall time: 1.97 s\n"
     ]
    }
   ],
   "source": [
    "%%time\n",
    "# Perform segmentation with Dask\n",
    "_results = dask.compute(*[segment(dask_img[:,z,:,:]) for z in range(dask_img.shape[1])])"
   ]
  },
  {
   "cell_type": "markdown",
   "id": "49cac1d3",
   "metadata": {},
   "source": [
    "### 6. Display the segmentation results\n",
    "\n",
    "We will use matplotlib to display the segmentation results. The output will show the Cellpose segmentation alongside the Nessys ground truth labels for comparison."
   ]
  },
  {
   "cell_type": "code",
   "execution_count": 10,
   "id": "4b33e21b",
   "metadata": {},
   "outputs": [
    {
     "data": {
      "application/vnd.jupyter.widget-view+json": {
       "model_id": "4a175447933a4b008d6fd134485c1c44",
       "version_major": 2,
       "version_minor": 0
      },
      "text/plain": [
       "interactive(children=(IntSlider(value=0, continuous_update=False, description='Select Z', max=2), Output()), _…"
      ]
     },
     "metadata": {},
     "output_type": "display_data"
    },
    {
     "data": {
      "text/plain": [
       "<function __main__.update(z=0)>"
      ]
     },
     "execution_count": 10,
     "metadata": {},
     "output_type": "execute_result"
    }
   ],
   "source": [
    "def update(z=0):\n",
    "    fig = plt.figure(figsize=(10, 10))\n",
    "    fig, ax = plt.subplots(1, 3, figsize=(10, 5))\n",
    "\n",
    "    # Original Image\n",
    "    ax[0].imshow(dask_img[0][z], cmap=\"Blues\")\n",
    "    ax[0].imshow(dask_img[1][z], cmap=\"Reds\")\n",
    "    ax[0].set_title(f\"Original - {Z[z] + 1}\")\n",
    "    ax[0].axis(\"off\")\n",
    "    \n",
    "    # Segmented Image (Overlay)\n",
    "    ax[1].imshow(dask_img[0][z], cmap=\"gray\")\n",
    "    ax[1].imshow(_results[z], alpha=0.5, cmap=\"jet\")\n",
    "    ax[1].set_title(f\"Segmentation - {Z[z] + 1}\")\n",
    "    ax[1].axis(\"off\")\n",
    "    \n",
    "    # Labels Image\n",
    "    ax[2].imshow(_labels.data[0, 0, Z[z], :, :], cmap=\"jet\")\n",
    "    ax[2].set_title(f\"Nessys' labels - {Z[z] + 1}\")\n",
    "    ax[2].axis(\"off\")\n",
    "\n",
    "    plt.tight_layout()\n",
    "    fig.canvas.flush_events()\n",
    "\n",
    "interact(\n",
    "    update,\n",
    "    z=widgets.IntSlider(\n",
    "        value=0,\n",
    "        min=0,\n",
    "        max=len(_results) - 1,\n",
    "        step=1,\n",
    "        description=\"Select Z\",\n",
    "        continuous_update=False,\n",
    "    ),\n",
    ")"
   ]
  },
  {
   "cell_type": "markdown",
   "id": "d7b3474a",
   "metadata": {},
   "source": [
    "## OME-Zarr files\n",
    "\n",
    "In this step, we will use the OME-Zarr format to analyze [6001247.zarr](https://uk1s3.embassy.ebi.ac.uk/idr/zarr/v0.1/6001247.zarr/0/) file. We will load the image using Dask and Cellpose and compare the results with the original Nessys segmentation."
   ]
  },
  {
   "cell_type": "markdown",
   "id": "220495a7",
   "metadata": {},
   "source": [
    "### 1. Load 6001247.zarr file instead of TIFF"
   ]
  },
  {
   "cell_type": "code",
   "execution_count": 11,
   "id": "752643e2",
   "metadata": {},
   "outputs": [],
   "source": [
    "# Image information\n",
    "IMAGE_ID = 6001247\n",
    "ENPOINT_URL = 'https://uk1s3.embassy.ebi.ac.uk/'"
   ]
  },
  {
   "cell_type": "code",
   "execution_count": 12,
   "id": "f1ac566a",
   "metadata": {},
   "outputs": [],
   "source": [
    "# Define a function to load binary data from S3\n",
    "def load_binary_from_s3(name, resolution='0'):\n",
    "    root = '%s/%s/' % (name, resolution)\n",
    "    return dask.array.from_zarr(ENPOINT_URL + root)"
   ]
  },
  {
   "cell_type": "code",
   "execution_count": 13,
   "id": "ba0701a4",
   "metadata": {},
   "outputs": [],
   "source": [
    "# Define the name of the Zarr file\n",
    "name = 'idr/zarr/v0.1/%s.zarr' % IMAGE_ID\n",
    "\n",
    "# Load the binary data from S3\n",
    "data = load_binary_from_s3(name, resolution='0')"
   ]
  },
  {
   "cell_type": "code",
   "execution_count": 14,
   "id": "8a78ca8a",
   "metadata": {},
   "outputs": [
    {
     "name": "stdout",
     "output_type": "stream",
     "text": [
      "Dask array shape: (1, 2, 257, 210, 253)\n"
     ]
    }
   ],
   "source": [
    "print(f\"Dask array shape: {data.shape}\")"
   ]
  },
  {
   "cell_type": "markdown",
   "id": "eedc158a",
   "metadata": {},
   "source": [
    "### 2. Read labels from the ome.zarr"
   ]
  },
  {
   "cell_type": "code",
   "execution_count": 15,
   "id": "843c8190",
   "metadata": {},
   "outputs": [],
   "source": [
    "# Define the name of the labels Zarr file\n",
    "name = 'idr/zarr/v0.1/%s.zarr/labels' % IMAGE_ID\n",
    "\n",
    "# Load the binary data from S3\n",
    "labels = load_binary_from_s3(name)"
   ]
  },
  {
   "cell_type": "code",
   "execution_count": 16,
   "id": "552bee54",
   "metadata": {},
   "outputs": [
    {
     "name": "stdout",
     "output_type": "stream",
     "text": [
      "Dask array shape: (1, 1, 257, 210, 253)\n"
     ]
    }
   ],
   "source": [
    "print(f\"Dask array shape: {labels.shape}\")"
   ]
  },
  {
   "cell_type": "markdown",
   "id": "6ea9044d",
   "metadata": {},
   "source": [
    "### 3. Analyze the image using Cellpose"
   ]
  },
  {
   "cell_type": "code",
   "execution_count": 17,
   "id": "eae49078",
   "metadata": {},
   "outputs": [
    {
     "name": "stdout",
     "output_type": "stream",
     "text": [
      "CPU times: user 5min 7s, sys: 49.3 s, total: 5min 57s\n",
      "Wall time: 1min 1s\n"
     ]
    }
   ],
   "source": [
    "%%time\n",
    "# Perform segmentation with Dask\n",
    "results = dask.compute(*[segment(data[0,:,z,:,:]) for z in range(data.shape[2])])"
   ]
  },
  {
   "cell_type": "code",
   "execution_count": 18,
   "id": "dbfd3d96",
   "metadata": {},
   "outputs": [
    {
     "data": {
      "application/vnd.jupyter.widget-view+json": {
       "model_id": "eb32a22cf7094f1d8077af52c5c87395",
       "version_major": 2,
       "version_minor": 0
      },
      "text/plain": [
       "interactive(children=(IntSlider(value=0, continuous_update=False, description='Select T', max=256), Output()),…"
      ]
     },
     "metadata": {},
     "output_type": "display_data"
    },
    {
     "data": {
      "text/plain": [
       "<function __main__.update(z=0)>"
      ]
     },
     "execution_count": 18,
     "metadata": {},
     "output_type": "execute_result"
    }
   ],
   "source": [
    "def update(z=0):\n",
    "    fig = plt.figure(figsize=(10, 10))\n",
    "    fig, ax = plt.subplots(1, 3, figsize=(10, 5))\n",
    "\n",
    "    # Original Image\n",
    "    ax[0].imshow(data[0, 0, z, :, :], cmap=\"Blues\")\n",
    "    ax[0].imshow(data[0, 1, z, :, :], cmap=\"Reds\", alpha=0.5)\n",
    "    ax[0].set_title(f\"Original (z={z + 1})\")\n",
    "    ax[0].axis(\"off\")\n",
    "    \n",
    "    # Segmented Image (Overlay)\n",
    "    ax[1].imshow(data[0, 0, z, :, :], cmap=\"gray\")\n",
    "    ax[1].imshow(results[z], alpha=0.5, cmap=\"jet\")\n",
    "    ax[1].set_title(f\"Segmentation (z={z + 1})\")\n",
    "    ax[1].axis(\"off\")\n",
    "    \n",
    "    # Labels Image\n",
    "    ax[2].imshow(labels[0, 0, z, :, :], cmap=\"jet\")\n",
    "    ax[2].set_title(f\"Nessys' labels (z={z + 1})\")\n",
    "    ax[2].axis(\"off\")\n",
    "\n",
    "    plt.tight_layout()\n",
    "    fig.canvas.flush_events()\n",
    "\n",
    "interact(\n",
    "    update,\n",
    "    z=widgets.IntSlider(\n",
    "        value=0,\n",
    "        min=0,\n",
    "        max=len(results) - 1,\n",
    "        step=1,\n",
    "        description=\"Select T\",\n",
    "        continuous_update=False,\n",
    "    ),\n",
    ")"
   ]
  },
  {
   "cell_type": "markdown",
   "id": "630789fe",
   "metadata": {},
   "source": [
    "### 4. Compare the labels with the Cellpose segmentation\n",
    "\n",
    "We will compare Cellpose segmentations with Nessys labels using standard segmentation metrics. These metrics help evaluate overlap, precision, and segmentation accuracy.\n",
    "\n",
    "1. Intersection over Union (IoU) - Jaccard Index\n",
    "\n",
    "Measures overlap accuracy between predicted and ground truth segmentation.\n",
    "\n",
    "$$\n",
    "IoU = J(A,B) = \\frac{|A \\cap B|}{|A \\cup B|} \\in [0,1]\n",
    "$$\n",
    "\n",
    "- **0.0** → No overlap at all (bad segmentation)\n",
    "- **1.0** → Perfect match (ideal segmentation)\n",
    "- **> 0.5** → Generally considered a good match in many applications\n",
    "\n",
    "2. Precision & Recall\n",
    "\n",
    "These metrics evaluate over-segmentation (avoids False Positives - FP) vs. under-segmentation (avoids False Negatives - FN).\n",
    "\n",
    "$$\n",
    "Precision = \\frac{TP}{TP + FP} \\in [0,1]\n",
    "$$\n",
    "\n",
    "$$\n",
    "Recall = \\frac{TP}{TP + FN} \\in [0,1]\n",
    "$$\n",
    "\n",
    "- **High precision, low recall**: Too conservative (many missed nuclei).  \n",
    "- **High recall, low precision**: Too aggressive (detects too many false nuclei).  \n",
    "\n",
    "3. Dice Coefficient (F1 Score for Segmentation)\n",
    "\n",
    "Measures similarity between segmentation masks, commonly used in biomedical imaging.\n",
    "\n",
    "$$\n",
    "Dice = \\frac{2|A \\cap B|}{|A| + |B|} \\in [0,1]\n",
    "$$\n",
    "\n",
    "- **0.0** → No overlap\n",
    "- **1.0** → Perfect match"
   ]
  },
  {
   "cell_type": "code",
   "execution_count": 19,
   "id": "456cb44c",
   "metadata": {},
   "outputs": [],
   "source": [
    "# Convert predictions to a numpy array\n",
    "predictions = numpy.stack(results)\n",
    "\n",
    "# Convert labels to a numpy array\n",
    "ground_truth = labels[0,0,:,:,:].compute()"
   ]
  },
  {
   "cell_type": "code",
   "execution_count": 20,
   "id": "ea469038",
   "metadata": {},
   "outputs": [
    {
     "name": "stderr",
     "output_type": "stream",
     "text": [
      "/home/jvsguerra/remote-repos/jvsguerra/MDA_Project_4/.venv/lib/python3.12/site-packages/scipy/spatial/distance.py:1506: RuntimeWarning: invalid value encountered in divide\n",
      "  return float((ntf + nft) / np.array(2.0 * ntt + ntf + nft))\n",
      "/home/jvsguerra/remote-repos/jvsguerra/MDA_Project_4/.venv/lib/python3.12/site-packages/sklearn/metrics/_classification.py:1565: UndefinedMetricWarning: Recall is ill-defined and being set to 0.0 in labels with no true samples. Use `zero_division` parameter to control this behavior.\n",
      "  _warn_prf(average, modifier, f\"{metric.capitalize()} is\", len(result))\n"
     ]
    },
    {
     "data": {
      "text/html": [
       "<div>\n",
       "<style scoped>\n",
       "    .dataframe tbody tr th:only-of-type {\n",
       "        vertical-align: middle;\n",
       "    }\n",
       "\n",
       "    .dataframe tbody tr th {\n",
       "        vertical-align: top;\n",
       "    }\n",
       "\n",
       "    .dataframe thead th {\n",
       "        text-align: right;\n",
       "    }\n",
       "</style>\n",
       "<table border=\"1\" class=\"dataframe\">\n",
       "  <thead>\n",
       "    <tr style=\"text-align: right;\">\n",
       "      <th></th>\n",
       "      <th>jaccard</th>\n",
       "      <th>precision</th>\n",
       "      <th>recall</th>\n",
       "      <th>dice</th>\n",
       "      <th>ct</th>\n",
       "    </tr>\n",
       "  </thead>\n",
       "  <tbody>\n",
       "    <tr>\n",
       "      <th>0</th>\n",
       "      <td>1.000000</td>\n",
       "      <td>1.000000</td>\n",
       "      <td>1.000000</td>\n",
       "      <td>NaN</td>\n",
       "      <td>&lt;Compressed Sparse Row sparse matrix of dtype ...</td>\n",
       "    </tr>\n",
       "    <tr>\n",
       "      <th>1</th>\n",
       "      <td>0.478026</td>\n",
       "      <td>0.500000</td>\n",
       "      <td>0.478026</td>\n",
       "      <td>0.000000</td>\n",
       "      <td>&lt;Compressed Sparse Row sparse matrix of dtype ...</td>\n",
       "    </tr>\n",
       "    <tr>\n",
       "      <th>2</th>\n",
       "      <td>0.534117</td>\n",
       "      <td>0.556691</td>\n",
       "      <td>0.977425</td>\n",
       "      <td>0.203673</td>\n",
       "      <td>&lt;Compressed Sparse Row sparse matrix of dtype ...</td>\n",
       "    </tr>\n",
       "    <tr>\n",
       "      <th>3</th>\n",
       "      <td>0.619881</td>\n",
       "      <td>0.636170</td>\n",
       "      <td>0.983711</td>\n",
       "      <td>0.428094</td>\n",
       "      <td>&lt;Compressed Sparse Row sparse matrix of dtype ...</td>\n",
       "    </tr>\n",
       "    <tr>\n",
       "      <th>4</th>\n",
       "      <td>0.677321</td>\n",
       "      <td>0.690412</td>\n",
       "      <td>0.986909</td>\n",
       "      <td>0.551589</td>\n",
       "      <td>&lt;Compressed Sparse Row sparse matrix of dtype ...</td>\n",
       "    </tr>\n",
       "    <tr>\n",
       "      <th>...</th>\n",
       "      <td>...</td>\n",
       "      <td>...</td>\n",
       "      <td>...</td>\n",
       "      <td>...</td>\n",
       "      <td>...</td>\n",
       "    </tr>\n",
       "    <tr>\n",
       "      <th>252</th>\n",
       "      <td>0.745140</td>\n",
       "      <td>0.782537</td>\n",
       "      <td>0.962159</td>\n",
       "      <td>0.721880</td>\n",
       "      <td>&lt;Compressed Sparse Row sparse matrix of dtype ...</td>\n",
       "    </tr>\n",
       "    <tr>\n",
       "      <th>253</th>\n",
       "      <td>0.732969</td>\n",
       "      <td>0.771696</td>\n",
       "      <td>0.961192</td>\n",
       "      <td>0.704117</td>\n",
       "      <td>&lt;Compressed Sparse Row sparse matrix of dtype ...</td>\n",
       "    </tr>\n",
       "    <tr>\n",
       "      <th>254</th>\n",
       "      <td>0.714830</td>\n",
       "      <td>0.756999</td>\n",
       "      <td>0.957830</td>\n",
       "      <td>0.678995</td>\n",
       "      <td>&lt;Compressed Sparse Row sparse matrix of dtype ...</td>\n",
       "    </tr>\n",
       "    <tr>\n",
       "      <th>255</th>\n",
       "      <td>0.628279</td>\n",
       "      <td>0.693338</td>\n",
       "      <td>0.934942</td>\n",
       "      <td>0.557702</td>\n",
       "      <td>&lt;Compressed Sparse Row sparse matrix of dtype ...</td>\n",
       "    </tr>\n",
       "    <tr>\n",
       "      <th>256</th>\n",
       "      <td>0.627555</td>\n",
       "      <td>0.689596</td>\n",
       "      <td>0.937959</td>\n",
       "      <td>0.549875</td>\n",
       "      <td>&lt;Compressed Sparse Row sparse matrix of dtype ...</td>\n",
       "    </tr>\n",
       "  </tbody>\n",
       "</table>\n",
       "<p>257 rows × 5 columns</p>\n",
       "</div>"
      ],
      "text/plain": [
       "      jaccard  precision    recall      dice  \\\n",
       "0    1.000000   1.000000  1.000000       NaN   \n",
       "1    0.478026   0.500000  0.478026  0.000000   \n",
       "2    0.534117   0.556691  0.977425  0.203673   \n",
       "3    0.619881   0.636170  0.983711  0.428094   \n",
       "4    0.677321   0.690412  0.986909  0.551589   \n",
       "..        ...        ...       ...       ...   \n",
       "252  0.745140   0.782537  0.962159  0.721880   \n",
       "253  0.732969   0.771696  0.961192  0.704117   \n",
       "254  0.714830   0.756999  0.957830  0.678995   \n",
       "255  0.628279   0.693338  0.934942  0.557702   \n",
       "256  0.627555   0.689596  0.937959  0.549875   \n",
       "\n",
       "                                                    ct  \n",
       "0    <Compressed Sparse Row sparse matrix of dtype ...  \n",
       "1    <Compressed Sparse Row sparse matrix of dtype ...  \n",
       "2    <Compressed Sparse Row sparse matrix of dtype ...  \n",
       "3    <Compressed Sparse Row sparse matrix of dtype ...  \n",
       "4    <Compressed Sparse Row sparse matrix of dtype ...  \n",
       "..                                                 ...  \n",
       "252  <Compressed Sparse Row sparse matrix of dtype ...  \n",
       "253  <Compressed Sparse Row sparse matrix of dtype ...  \n",
       "254  <Compressed Sparse Row sparse matrix of dtype ...  \n",
       "255  <Compressed Sparse Row sparse matrix of dtype ...  \n",
       "256  <Compressed Sparse Row sparse matrix of dtype ...  \n",
       "\n",
       "[257 rows x 5 columns]"
      ]
     },
     "execution_count": 20,
     "metadata": {},
     "output_type": "execute_result"
    }
   ],
   "source": [
    "# Initialize metrics dictionary\n",
    "metrics = {\n",
    "    \"jaccard\": [],\n",
    "    \"precision\": [],\n",
    "    \"recall\": [],\n",
    "    \"dice\": [],\n",
    "    \"ct\": [],\n",
    "}\n",
    "\n",
    "# Iterate over predictions and ground truth\n",
    "for pred, gt in zip(predictions, ground_truth):\n",
    "    # Flatten arrays for computation\n",
    "    pred_flat = pred.flatten() > 0\n",
    "    gt_flat = gt.flatten() > 0\n",
    "\n",
    "    # Compute metrics\n",
    "    metrics[\"ct\"].append(contingency_table(gt, pred))\n",
    "    metrics[\"jaccard\"].append(jaccard_score(gt_flat, pred_flat, average=\"macro\"))\n",
    "    metrics[\"precision\"].append(precision_score(gt_flat, pred_flat, average=\"macro\"))\n",
    "    metrics[\"recall\"].append(recall_score(gt_flat, pred_flat, average=\"macro\"))\n",
    "    metrics[\"dice\"].append(1 - dice(gt_flat, pred_flat))\n",
    "\n",
    "# Convert metrics to a DataFrame\n",
    "metrics_df = pandas.DataFrame(metrics)\n",
    "\n",
    "# Display the metrics DataFrame\n",
    "metrics_df"
   ]
  },
  {
   "cell_type": "markdown",
   "id": "55a6f603",
   "metadata": {},
   "source": [
    "#### Metrics visualization"
   ]
  },
  {
   "cell_type": "code",
   "execution_count": 21,
   "id": "33401b0f",
   "metadata": {},
   "outputs": [
    {
     "name": "stdout",
     "output_type": "stream",
     "text": [
      "jaccard      0.766127\n",
      "precision    0.799934\n",
      "recall       0.955087\n",
      "dice         0.714514\n",
      "dtype: float64\n"
     ]
    },
    {
     "data": {
      "image/png": "[encoded data removed]",
      "text/plain": [
       "<Figure size 1000x600 with 1 Axes>"
      ]
     },
     "metadata": {},
     "output_type": "display_data"
    }
   ],
   "source": [
    "# Calculate average metrics\n",
    "metrics_avg = metrics_df.drop(columns=[\"ct\"]).mean()\n",
    "print(metrics_avg)\n",
    "\n",
    "# Plot\n",
    "metrics_avg.plot.bar(\n",
    "    figsize=(10, 6),\n",
    "    color='skyblue',\n",
    "    edgecolor='black',\n",
    "    legend=False\n",
    ")\n",
    "\n",
    "plt.title(\"Average Metrics\", fontsize=16, fontweight='bold')\n",
    "plt.ylabel(\"Value\", fontsize=12)\n",
    "plt.xlabel(\"Metrics\", fontsize=12)\n",
    "plt.xticks(rotation=45, fontsize=10)\n",
    "plt.ylim(0, 1)\n",
    "plt.grid(axis='y', linestyle='--', alpha=0.7)\n",
    "plt.tight_layout()\n",
    "plt.show()"
   ]
  },
  {
   "cell_type": "code",
   "execution_count": 22,
   "id": "8aa970c7",
   "metadata": {},
   "outputs": [
    {
     "data": {
      "image/png": "[encoded data removed]",
      "text/plain": [
       "<Figure size 1200x800 with 4 Axes>"
      ]
     },
     "metadata": {},
     "output_type": "display_data"
    }
   ],
   "source": [
    "axes = metrics_df.hist(\n",
    "    figsize=(12, 8), \n",
    "    bins=20, \n",
    "    color='skyblue', \n",
    "    edgecolor='black', \n",
    "    grid=False\n",
    ")\n",
    "\n",
    "# Set x-axis limits for all graphs\n",
    "for ax in axes.flatten():\n",
    "    ax.set_xlim(0, 1)\n",
    "\n",
    "plt.suptitle(\"Distribution of Metrics\", fontsize=16, fontweight='bold')\n",
    "plt.tight_layout(rect=[0, 0, 1, 0.96])\n",
    "plt.show()"
   ]
  },
  {
   "cell_type": "markdown",
   "id": "03ccbed9",
   "metadata": {},
   "source": [
    "### Number of cells detected"
   ]
  },
  {
   "cell_type": "code",
   "execution_count": 23,
   "id": "7507a769",
   "metadata": {},
   "outputs": [],
   "source": [
    "count = []\n",
    "\n",
    "for pred, gt in zip(predictions, ground_truth):\n",
    "    count.append(\n",
    "        [numpy.unique(pred).shape[0] - 1 , numpy.unique(gt).shape[0] - 1]\n",
    "    )\n",
    "\n",
    "count = pandas.DataFrame(count, columns=[\"Predictions\", \"Ground Truth\"])"
   ]
  },
  {
   "cell_type": "code",
   "execution_count": 24,
   "id": "088c9e8a",
   "metadata": {},
   "outputs": [
    {
     "data": {
      "image/png": "[encoded data removed]",
      "text/plain": [
       "<Figure size 1000x600 with 1 Axes>"
      ]
     },
     "metadata": {},
     "output_type": "display_data"
    }
   ],
   "source": [
    "# Plot scatter plot\n",
    "plt.figure(figsize=(10, 6))\n",
    "\n",
    "plt.scatter(count[\"Predictions\"], count[\"Ground Truth\"], color='skyblue', edgecolor='black')\n",
    "\n",
    "plt.title(\"Number of Cells detected\", fontsize=16, fontweight='bold')\n",
    "plt.xlabel(\"Cellpose\", fontsize=12)\n",
    "plt.ylabel(\"Nessys\", fontsize=12)\n",
    "plt.xlim(0, 18)\n",
    "plt.ylim(0, 18)\n",
    "plt.xticks(fontsize=10)\n",
    "plt.yticks(fontsize=10)\n",
    "plt.grid()\n",
    "plt.plot([0, 18], [0, 18], color='red', linestyle='--', linewidth=2)\n",
    "plt.tight_layout()\n",
    "\n",
    "# Add pearson correlation coefficient\n",
    "corr, pval = pearsonr(count[\"Predictions\"], count[\"Ground Truth\"])\n",
    "plt.text(1, 16, f'Pearson r: {corr:.2f}', fontsize=12, color='red')\n",
    "r2 = r2_score(count[\"Ground Truth\"], count[\"Predictions\"])\n",
    "plt.text(1, 15, f'R²: {r2:.2f}', fontsize=12, color='red')\n",
    "\n",
    "plt.show()"
   ]
  }
 ],
 "metadata": {
  "kernelspec": {
   "display_name": ".venv",
   "language": "python",
   "name": ".venv"
  },
  "language_info": {
   "codemirror_mode": {
    "name": "ipython",
    "version": 3
   },
   "file_extension": ".py",
   "mimetype": "text/x-python",
   "name": "python",
   "nbconvert_exporter": "python",
   "pygments_lexer": "ipython3",
   "version": "3.12.3"
  }
 },
 "nbformat": 4,
 "nbformat_minor": 5
}
